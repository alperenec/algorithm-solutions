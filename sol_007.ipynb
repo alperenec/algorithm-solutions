{
 "cells": [
  {
   "cell_type": "markdown",
   "id": "bf971899-fe6b-44d3-a845-591b2bb96fd7",
   "metadata": {},
   "source": [
    "https://practice.geeksforgeeks.org/problems/merge-two-sorted-arrays-1587115620/1"
   ]
  },
  {
   "cell_type": "code",
   "execution_count": 11,
   "id": "12c2007f-5465-4b9c-8a3e-e7f02fc63049",
   "metadata": {},
   "outputs": [
    {
     "name": "stdin",
     "output_type": "stream",
     "text": [
      "dizi 1in eleman sayısı 5\n",
      " 5 8 7 6 4\n",
      "dizi 2nin eleman sayısı 3\n",
      " 4 2 5\n"
     ]
    },
    {
     "name": "stdout",
     "output_type": "stream",
     "text": [
      "[5, 8, 7, 6, 4, 4, 2, 5]\n",
      "[2, 4, 4, 5, 5, 6, 7, 8]\n",
      "arr1 [2, 4, 4, 5, 5]\n",
      "arr2 [6, 7, 8]\n"
     ]
    }
   ],
   "source": [
    "n=int(input(\"dizi 1in eleman sayısı\"))\n",
    "arr1=list(map(int,input().split()))\n",
    "m=int(input(\"dizi 2nin eleman sayısı\"))\n",
    "arr2=list(map(int,input().split()))\n",
    "birles=[]\n",
    "birles+=arr1+arr2\n",
    "print(birles)\n",
    "\n",
    "def sirala(dizi):\n",
    "    for i in range(1, len(dizi)):\n",
    "        deger = dizi[i]\n",
    "        j = i - 1\n",
    "        while j >= 0 and deger < dizi[j]:\n",
    "            dizi[j + 1] = dizi[j]\n",
    "            j -= 1\n",
    "        dizi[j + 1] = deger\n",
    "    return dizi\n",
    "\n",
    "arr=sirala(birles)\n",
    "print(arr)\n",
    "\n",
    "arr1=arr[:n]\n",
    "arr2=arr[n:]\n",
    "print(\"arr1\",arr1)\n",
    "print(\"arr2\",arr2)"
   ]
  },
  {
   "cell_type": "markdown",
   "id": "6b1fd581-436b-4838-ae58-616eac9cc4bd",
   "metadata": {},
   "source": [
    "https://practice.geeksforgeeks.org/problems/-rearrange-array-alternately-1587115620/1"
   ]
  },
  {
   "cell_type": "code",
   "execution_count": 68,
   "id": "4e9c77c6-ead0-4c1d-b6eb-c57e39432fe2",
   "metadata": {},
   "outputs": [
    {
     "name": "stdin",
     "output_type": "stream",
     "text": [
      " 5\n",
      " 1 2 3 4 5\n"
     ]
    },
    {
     "name": "stdout",
     "output_type": "stream",
     "text": [
      "5 1 4 2 3 "
     ]
    }
   ],
   "source": [
    "N=int(input())\n",
    "arr=list(map(int,input().split()))\n",
    "\n",
    "if N%2==0:\n",
    "    for i in range(N//2):\n",
    "        print(arr[N-1-i],arr[i],end=\" \")\n",
    "elif N%2!=0:\n",
    "    for i in range(N//2):\n",
    "        if i!=N//2-1:\n",
    "            print(arr[N-1-i],arr[i],end=\" \")\n",
    "        elif i==N//2-1:\n",
    "            print(arr[N-1-i],arr[i],arr[N//2],end=\" \")"
   ]
  },
  {
   "cell_type": "markdown",
   "id": "ada5644b-c3ec-4a9b-8e5d-b180d25fdbe3",
   "metadata": {},
   "source": [
    "https://practice.geeksforgeeks.org/problems/number-of-pairs-1587115620/1"
   ]
  },
  {
   "cell_type": "code",
   "execution_count": 85,
   "id": "74adb32d-3c15-4cb4-8580-0fb0eb910e5b",
   "metadata": {},
   "outputs": [
    {
     "name": "stdout",
     "output_type": "stream",
     "text": [
      "5\n"
     ]
    }
   ],
   "source": [
    "lx = 4\n",
    "x = [2,3,4,5]\n",
    "ly = 3\n",
    "y = [1,2,3]\n",
    "c=0\n",
    "for i in range(lx):\n",
    "    for j in range(ly):\n",
    "        if x[i]**y[j] > y[j]**x[i]:\n",
    "            c+=1\n",
    "print(c)"
   ]
  },
  {
   "cell_type": "code",
   "execution_count": 86,
   "id": "363cb68f-631d-454c-b069-8e93a59db0d5",
   "metadata": {},
   "outputs": [
    {
     "name": "stdout",
     "output_type": "stream",
     "text": [
      "5\n"
     ]
    }
   ],
   "source": [
    "lx = 4\n",
    "x = [2,3,4,5]\n",
    "ly = 3\n",
    "y = [1,2,3]\n",
    "c=0\n",
    "for i in x:\n",
    "    for j in y:\n",
    "        if i**j > j**i:\n",
    "            c+=1\n",
    "print(c)"
   ]
  },
  {
   "cell_type": "markdown",
   "id": "af6af76d-0adc-45ed-9ec9-781e235116c8",
   "metadata": {},
   "source": [
    "https://practice.geeksforgeeks.org/problems/inversion-of-array-1587115620/1"
   ]
  },
  {
   "cell_type": "code",
   "execution_count": 147,
   "id": "3d46769b-f306-41e4-9851-3cd526b25fc0",
   "metadata": {},
   "outputs": [
    {
     "name": "stdout",
     "output_type": "stream",
     "text": [
      "4\n"
     ]
    }
   ],
   "source": [
    "N = 6\n",
    "arr = [6, 8, 1, 8, 7, 8]\n",
    "c=0\n",
    "for i in range(N):\n",
    "    for j in range(i+1,N):\n",
    "        if arr[i]>arr[j]:\n",
    "            c+=1\n",
    "print(c)"
   ]
  },
  {
   "cell_type": "code",
   "execution_count": 148,
   "id": "ac3c577d-52de-4569-8e5a-f4a4090f880e",
   "metadata": {},
   "outputs": [
    {
     "name": "stdout",
     "output_type": "stream",
     "text": [
      "0 1\n",
      "0 2\n",
      "0 3\n",
      "0 4\n",
      "0 5\n",
      "1 2\n",
      "1 3\n",
      "1 4\n",
      "1 5\n",
      "2 3\n",
      "2 4\n",
      "2 5\n",
      "3 4\n",
      "3 5\n",
      "4 5\n"
     ]
    }
   ],
   "source": [
    "for i in range(N):\n",
    "    for j in range(i+1,N):\n",
    "        print(i,j)"
   ]
  },
  {
   "cell_type": "markdown",
   "id": "7910c646-6a38-49d8-a117-e61973631c0b",
   "metadata": {},
   "source": [
    "https://practice.geeksforgeeks.org/problems/sort-an-array-of-0s-1s-and-2s4231/1"
   ]
  },
  {
   "cell_type": "code",
   "execution_count": 131,
   "id": "03d643ad-436d-4ee7-8663-27c68cee6154",
   "metadata": {},
   "outputs": [
    {
     "name": "stdout",
     "output_type": "stream",
     "text": [
      "4\n"
     ]
    }
   ],
   "source": [
    "n = 7\n",
    "arr = [2,1,3,5,1,9,2]\n",
    "for i in range(n):\n",
    "    top1=0\n",
    "    for j in arr[:i]:\n",
    "        top1+=j\n",
    "    top2=0\n",
    "    for j in arr[i+1:]:\n",
    "        top2+=j\n",
    "    if top1==top2:\n",
    "        print(i)"
   ]
  },
  {
   "cell_type": "code",
   "execution_count": 135,
   "id": "3fe9ceae-2e08-4cc2-be1b-81376aa65faf",
   "metadata": {},
   "outputs": [
    {
     "name": "stdout",
     "output_type": "stream",
     "text": [
      "(2, 2)\n",
      "4\n"
     ]
    }
   ],
   "source": [
    "n = 5 \n",
    "arr = (1,3,5,2,2)\n",
    "print(arr[2+1:])\n",
    "top=0\n",
    "for i in range(len(arr[2+1:])):\n",
    "    top+=arr[i]\n",
    "print(top)"
   ]
  },
  {
   "cell_type": "markdown",
   "id": "bf261536-7295-4aa3-b9db-028c1480ad2f",
   "metadata": {},
   "source": [
    "https://practice.geeksforgeeks.org/problems/leaders-in-an-array-1587115620/1"
   ]
  },
  {
   "cell_type": "code",
   "execution_count": 174,
   "id": "8df5b6b6-d82e-47b5-ac03-fecfb98f10fe",
   "metadata": {},
   "outputs": [
    {
     "name": "stdout",
     "output_type": "stream",
     "text": [
      "[4, 0]\n"
     ]
    }
   ],
   "source": [
    "n = 5\n",
    "arr = [1,2,3,4,0]\n",
    "sil=[]\n",
    "for i in range(n-1):\n",
    "    for j in range(i+1,n):\n",
    "        if arr[i]<arr[j]:\n",
    "            sil+=[arr[i]]\n",
    "for t in sil:\n",
    "    if t in arr:\n",
    "        arr.remove(t)\n",
    "print(arr)"
   ]
  },
  {
   "cell_type": "markdown",
   "id": "bb2ed24c-2576-40ed-92b6-78e1874b55b2",
   "metadata": {},
   "source": [
    "https://practice.geeksforgeeks.org/problems/minimum-platforms-1587115620/1 MEDİUM"
   ]
  },
  {
   "cell_type": "code",
   "execution_count": 182,
   "id": "4f3e8afe-7190-40b2-a32e-53f74776717f",
   "metadata": {},
   "outputs": [
    {
     "name": "stdout",
     "output_type": "stream",
     "text": [
      "[1200, 1210, 1230, 1410, 1430]\n",
      "[1400, 1500, 1600, 1520, 1700]\n"
     ]
    }
   ],
   "source": [
    "def first_digit(num):\n",
    "    return int(str(num)[0])\n",
    "\n",
    "def insertionSort(arr):  \n",
    "    for i in range(1, len(arr)):\n",
    "        deger = arr[i]      \n",
    "        j = i-1\n",
    "        while j >=0 and deger< arr[j] :\n",
    "                arr[j+1] = arr[j]\n",
    "                j -= 1\n",
    "        arr[j+1] = deger\n",
    "    return arr\n",
    "\n",
    "def yap(x):\n",
    "    yeni=[]\n",
    "    for i in x:\n",
    "        if first_digit(i)==0:\n",
    "            i=i[1:]\n",
    "            yeni.append(i)\n",
    "        else:\n",
    "            yeni.append(i)\n",
    "    intyeni = [int(item) for item in yeni]\n",
    "    return intyeni\n",
    "\n",
    "\n",
    "n = 5\n",
    "arr = [\"1200\", \"1210\", \"1230\",\"1410\",\"1430\"]\n",
    "dep = [\"1400\", \"1500\", \"1600\",\"1520\",\"1700\"]\n",
    "\n",
    "newarr=yap(arr)\n",
    "newdep=yap(dep)\n",
    "print(newarr)\n",
    "print(newdep)"
   ]
  },
  {
   "cell_type": "code",
   "execution_count": 180,
   "id": "7692d326-bfb0-4036-9103-14bb45acb7b6",
   "metadata": {},
   "outputs": [
    {
     "name": "stdout",
     "output_type": "stream",
     "text": [
      "[1200, 1210, 1230, 1400, 1410, 1430, 1500, 1520, 1600, 1700]\n"
     ]
    }
   ],
   "source": [
    "birles=[]\n",
    "birles+=newarr+newdep\n",
    "insertionSort(birles)\n",
    "print(birles)"
   ]
  },
  {
   "cell_type": "code",
   "execution_count": 181,
   "id": "a3868053-e86c-4cfa-9fce-a06eaa44aba6",
   "metadata": {},
   "outputs": [
    {
     "name": "stdout",
     "output_type": "stream",
     "text": [
      "4\n"
     ]
    }
   ],
   "source": [
    "c=0\n",
    "max=0\n",
    "for i in birles:\n",
    "    if i in newarr:\n",
    "        c+=1\n",
    "        if c>max:\n",
    "            max=c\n",
    "    elif i in newdep:\n",
    "        c-=1\n",
    "    \n",
    "print(max)"
   ]
  },
  {
   "cell_type": "code",
   "execution_count": 178,
   "id": "4080846b-66f1-4cfc-bd02-6bd8c43f3d40",
   "metadata": {},
   "outputs": [
    {
     "name": "stdout",
     "output_type": "stream",
     "text": [
      "['0900', '0940', '0950', '1100', '1500', '1800', '0910', '1200', '1120', '1130', '1900', '2000']\n",
      "['900', '940', '950', '1100', '1500', '1800', '910', '1200', '1120', '1130', '1900', '2000']\n",
      "[900, 910, 940, 950, 1100, 1120, 1130, 1200, 1500, 1800, 1900, 2000]\n"
     ]
    }
   ],
   "source": [
    "\"\"\"\n",
    "def first_digit(num):\n",
    "    return int(str(num)[0])\n",
    "\n",
    "def insertionSort(arr):  \n",
    "    for i in range(1, len(arr)):\n",
    "        deger = arr[i]      \n",
    "        j = i-1\n",
    "        while j >=0 and deger< arr[j] :\n",
    "                arr[j+1] = arr[j]\n",
    "                j -= 1\n",
    "        arr[j+1] = deger\n",
    "    return arr\n",
    "\n",
    "\n",
    "n = 6 \n",
    "arr = [\"0900\", \"0940\", \"0950\",\"1100\", \"1500\", \"1800\"]\n",
    "dep = [\"0910\", \"1200\", \"1120\", \"1130\", \"1900\", \"2000\"]\n",
    "birles=[]\n",
    "birles+=arr+dep\n",
    "print(birles)\n",
    "yeni=[]\n",
    "for i in birles:\n",
    "    if first_digit(i)==0:\n",
    "        i=i[1:]\n",
    "        yeni.append(i)\n",
    "    else:\n",
    "        yeni.append(i)\n",
    "print(yeni)\n",
    "intyeni = [int(item) for item in yeni]\n",
    "insertionSort(intyeni)\n",
    "print(intyeni)\n",
    "\"\"\""
   ]
  },
  {
   "cell_type": "code",
   "execution_count": null,
   "id": "fa5395c4-c85e-4388-a175-0a56d6befb45",
   "metadata": {},
   "outputs": [],
   "source": []
  }
 ],
 "metadata": {
  "kernelspec": {
   "display_name": "Python 3 (ipykernel)",
   "language": "python",
   "name": "python3"
  },
  "language_info": {
   "codemirror_mode": {
    "name": "ipython",
    "version": 3
   },
   "file_extension": ".py",
   "mimetype": "text/x-python",
   "name": "python",
   "nbconvert_exporter": "python",
   "pygments_lexer": "ipython3",
   "version": "3.9.7"
  }
 },
 "nbformat": 4,
 "nbformat_minor": 5
}
