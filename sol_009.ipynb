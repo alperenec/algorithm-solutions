{
 "cells": [
  {
   "cell_type": "markdown",
   "id": "e23494c7",
   "metadata": {},
   "source": [
    "# monk and rotation - arrays"
   ]
  },
  {
   "cell_type": "code",
   "execution_count": 21,
   "id": "30fb26e8",
   "metadata": {},
   "outputs": [
    {
     "name": "stdout",
     "output_type": "stream",
     "text": [
      "2\n",
      "5 3\n",
      "7 8 5 3 1\n",
      "5 3 1 7 8 \n",
      "\n",
      "6 1\n",
      "6 5 2 3 46 7\n",
      "7 6 5 2 3 46 \n",
      "\n"
     ]
    }
   ],
   "source": [
    "T=int(input())\n",
    "for Ti in range(T):\n",
    "    txt=input().split()\n",
    "    N=int(txt[0])\n",
    "    K=int(txt[1])\n",
    "    \n",
    "    arr=input().split()\n",
    "\n",
    "    for i in range(len(arr)):\n",
    "        arr[i]=int(arr[i])\n",
    "\n",
    "    for j in range(K):\n",
    "        tmp=arr[-1]\n",
    "        for i in range(N,1,-1):\n",
    "            arr[i-1]=arr[i-2]\n",
    "        arr[0]=tmp\n",
    "    \n",
    "    for i in arr:\n",
    "        print(i,end=\" \")\n",
    "    print(\"\\n\")\n",
    "    \n",
    "#kod doğru cevap veriyo ama yavaş  / monk and rotation-hackerrank"
   ]
  },
  {
   "cell_type": "code",
   "execution_count": 24,
   "id": "369b084e",
   "metadata": {
    "scrolled": true
   },
   "outputs": [
    {
     "name": "stdout",
     "output_type": "stream",
     "text": [
      "2\n",
      "5 2\n",
      "6 8 2 4 6\n",
      "4 6 6 8 2 \n",
      "\n",
      "9 14\n",
      "9 5 3 7 55 11 9 85 22\n",
      "55 11 9 85 22 9 5 3 7 \n",
      "\n"
     ]
    }
   ],
   "source": [
    "t=int(input())\n",
    "while (t!=0):\n",
    "    n,k=map(int, input().split())\n",
    "    arr=input().split()\n",
    "    index=n-(k%n)\n",
    "    for i in range(index,n):\n",
    "        print(arr[i],end=' ')\n",
    "    for j in range(index):\n",
    "        print(arr[j],end=' ')\n",
    "    print(\"\\n\")\n",
    "    t-=1\n",
    "\n",
    "#monk and rotation-hackerrank ÇÖZÜM"
   ]
  },
  {
   "cell_type": "markdown",
   "id": "aeed6d8d",
   "metadata": {},
   "source": [
    "# monk andinversions- arrays"
   ]
  },
  {
   "cell_type": "code",
   "execution_count": null,
   "id": "ca10fe66",
   "metadata": {},
   "outputs": [],
   "source": []
  }
 ],
 "metadata": {
  "kernelspec": {
   "display_name": "Python 3 (ipykernel)",
   "language": "python",
   "name": "python3"
  },
  "language_info": {
   "codemirror_mode": {
    "name": "ipython",
    "version": 3
   },
   "file_extension": ".py",
   "mimetype": "text/x-python",
   "name": "python",
   "nbconvert_exporter": "python",
   "pygments_lexer": "ipython3",
   "version": "3.9.7"
  }
 },
 "nbformat": 4,
 "nbformat_minor": 5
}
