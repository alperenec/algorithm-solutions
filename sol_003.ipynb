{
 "cells": [
  {
   "cell_type": "code",
   "execution_count": 43,
   "id": "b4bdb945-13a9-4ddf-9e66-42ff5a588eb4",
   "metadata": {},
   "outputs": [
    {
     "name": "stdout",
     "output_type": "stream",
     "text": [
      "5\n"
     ]
    }
   ],
   "source": [
    "arr = [1,2,3,5]\n",
    "max=arr[0]\n",
    "for i in range(1,len(arr)):\n",
    "    if arr[i]>max:\n",
    "        max=arr[i]\n",
    "print(max)"
   ]
  },
  {
   "cell_type": "code",
   "execution_count": 44,
   "id": "78151e4b-cc43-4b2d-b0ef-673f242e4628",
   "metadata": {},
   "outputs": [
    {
     "name": "stdout",
     "output_type": "stream",
     "text": [
      "[1, 2, 3, 5]\n"
     ]
    }
   ],
   "source": [
    "for tekrar in range(len(arr)):\n",
    "    for i in range(len(arr)-1):\n",
    "        if arr[i] > arr[i+1]:\n",
    "            arr[i], arr[i+1] = arr[i+1], arr[i]\n",
    "print(arr)"
   ]
  },
  {
   "cell_type": "code",
   "execution_count": 45,
   "id": "ee37ef26-c598-43ac-a521-12126425d40a",
   "metadata": {},
   "outputs": [
    {
     "name": "stdout",
     "output_type": "stream",
     "text": [
      "[1, 2, 3, 4, 5]\n"
     ]
    }
   ],
   "source": [
    "liste=[]\n",
    "for i in range(1,len(arr)+2):\n",
    "    liste+=[i]\n",
    "print(liste)"
   ]
  },
  {
   "cell_type": "code",
   "execution_count": 46,
   "id": "d3d5fc54-601b-427e-a504-a33e89334e47",
   "metadata": {},
   "outputs": [
    {
     "name": "stdout",
     "output_type": "stream",
     "text": [
      "kayıp sayı: 4\n"
     ]
    }
   ],
   "source": [
    "index=0\n",
    "while True:\n",
    "    if liste[index]!=arr[index]:\n",
    "        print(\"kayıp sayı:\",liste[index])\n",
    "        break\n",
    "    index+=1"
   ]
  },
  {
   "cell_type": "code",
   "execution_count": 16,
   "id": "d8f24e63-2c6a-4bc4-b538-3a7a3965686e",
   "metadata": {},
   "outputs": [
    {
     "name": "stdout",
     "output_type": "stream",
     "text": [
      "[1, 4, 6, 7, 8, 11]\n",
      "[1, 2, 2, 2, 3, 4, 4, 5, 41, 53, 66, 77, 91, 99]\n"
     ]
    }
   ],
   "source": [
    "#1. sort\n",
    "arr = [11,6,4,8,1,7]\n",
    "for tekrar in range(len(arr)):\n",
    "    for i in range(len(arr)-1):\n",
    "        if arr[i] > arr[i+1]:\n",
    "            arr[i], arr[i+1] = arr[i+1], arr[i]\n",
    "print(arr)\n",
    "\n",
    "#2. insertion sort\n",
    "L=[2,3,1,5,66,77,2,4,91,41,53,99,2,4]\n",
    "for i in range(len(L)):\n",
    "    j=i\n",
    "    tmp=L[j]\n",
    "    while tmp<L[j-1] and j>0:\n",
    "        L[j]=L[j-1]\n",
    "        j-=1\n",
    "    L[j]=tmp\n",
    "print(L)"
   ]
  },
  {
   "cell_type": "code",
   "execution_count": null,
   "id": "41a12337-24a2-4ec4-962f-53be7ce5641a",
   "metadata": {},
   "outputs": [],
   "source": []
  }
 ],
 "metadata": {
  "kernelspec": {
   "display_name": "Python 3 (ipykernel)",
   "language": "python",
   "name": "python3"
  },
  "language_info": {
   "codemirror_mode": {
    "name": "ipython",
    "version": 3
   },
   "file_extension": ".py",
   "mimetype": "text/x-python",
   "name": "python",
   "nbconvert_exporter": "python",
   "pygments_lexer": "ipython3",
   "version": "3.9.7"
  }
 },
 "nbformat": 4,
 "nbformat_minor": 5
}
