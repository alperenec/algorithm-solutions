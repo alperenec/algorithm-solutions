{
 "cells": [
  {
   "cell_type": "code",
   "execution_count": 1,
   "id": "0c9ee96f-67c0-45d1-b954-222d4518d10a",
   "metadata": {},
   "outputs": [
    {
     "name": "stdin",
     "output_type": "stream",
     "text": [
      "n: 5\n",
      "k: 3\n",
      "Sayılar Rasgelemi Girilsin (E/H)= e\n"
     ]
    },
    {
     "name": "stdout",
     "output_type": "stream",
     "text": [
      "[53, 34, 60, 51, 32]\n"
     ]
    }
   ],
   "source": [
    "from numpy.random import seed\n",
    "from numpy.random import rand\n",
    "import numpy as np\n",
    "\n",
    "n = int(input(\"n:\"))\n",
    "k = int(input(\"k:\"))\n",
    "random = input(\"Sayılar Rasgelemi Girilsin (E/H)=\")\n",
    "if random =='E' or random =='e':\n",
    "    liste = list(map(int, np.round_(100*rand(n)))) \n",
    "else:\n",
    "    liste = list(map(int, input().split()))\n",
    "print(liste)"
   ]
  },
  {
   "cell_type": "code",
   "execution_count": 2,
   "id": "88026011-d15c-4ecd-bf89-b6b397ddc938",
   "metadata": {},
   "outputs": [
    {
     "name": "stdout",
     "output_type": "stream",
     "text": [
      "[53, 34, 60, 51, 32]\n",
      "[53, 34, 60, 32]\n",
      "[53, 34, 32]\n",
      "[53, 34]\n",
      "[53]\n"
     ]
    }
   ],
   "source": [
    "print(liste)\n",
    "start=0\n",
    "while n>1:\n",
    "    stop=(start+k)%n\n",
    "    del liste[stop]\n",
    "    n=n-1\n",
    "    start = stop\n",
    "    print(liste)"
   ]
  },
  {
   "cell_type": "code",
   "execution_count": 3,
   "id": "09336b11-2612-4067-b3e2-ac30e6309574",
   "metadata": {},
   "outputs": [
    {
     "name": "stdin",
     "output_type": "stream",
     "text": [
      "n: 5\n",
      "k: 3\n",
      "Sayılar Rasgelemi Girilsin (E/H)= e\n"
     ]
    },
    {
     "name": "stdout",
     "output_type": "stream",
     "text": [
      "[92, 69, 67, 97, 35]\n"
     ]
    }
   ],
   "source": [
    "from numpy.random import seed\n",
    "from numpy.random import rand\n",
    "import numpy as np\n",
    "\n",
    "n = int(input(\"n:\"))\n",
    "k = int(input(\"k:\"))\n",
    "random = input(\"Sayılar Rasgelemi Girilsin (E/H)=\")\n",
    "if random =='E' or random =='e':\n",
    "    liste = list(map(int, np.round_(100*rand(n)))) \n",
    "else:\n",
    "    liste = list(map(int, input().split()))   \n",
    "print(liste)"
   ]
  },
  {
   "cell_type": "code",
   "execution_count": 4,
   "id": "8e6033ea-97fd-44ce-819e-7113d55a408c",
   "metadata": {},
   "outputs": [],
   "source": [
    "def EBOB(self):\n",
    "    for i in reversed(range(1, max(self))):\n",
    "        if sum([j % i for j in self]) == 0:\n",
    "            ebob = i            \n",
    "            break\n",
    "    return ebob"
   ]
  },
  {
   "cell_type": "code",
   "execution_count": 5,
   "id": "afd3a37d-8ebe-46e5-9fef-6baa0145f06e",
   "metadata": {},
   "outputs": [
    {
     "name": "stdout",
     "output_type": "stream",
     "text": [
      "[92, 69, 67, 97, 35]\n",
      "[92, 69, 67, 35]\n",
      "[92, 69, 35]\n",
      "[92, 69, 35]\n",
      "[92, 69, 35]\n",
      "[92, 69, 35]\n",
      "[92, 69, 35]\n",
      "[92, 69]\n",
      "[92, 69]\n",
      "[92, 69]\n",
      "[92, 69]\n",
      "[92, 69]\n",
      "[92]\n"
     ]
    }
   ],
   "source": [
    "print(liste)\n",
    "start = 0\n",
    "count = 0\n",
    "while n>1:\n",
    "    stop=(start+k) % n\n",
    "    if EBOB([liste[start],liste[stop]])==1 or count>3: #EBOB=1 ise aralarinda asal\n",
    "        del liste[stop]        \n",
    "        n=n-1\n",
    "        stop = stop % n\n",
    "        count = 0\n",
    "    else: \n",
    "        count = count + 1\n",
    "    start = stop\n",
    "    print(liste)"
   ]
  },
  {
   "cell_type": "code",
   "execution_count": null,
   "id": "2e6c102f-f858-47e4-8c14-34a262714489",
   "metadata": {},
   "outputs": [],
   "source": []
  }
 ],
 "metadata": {
  "kernelspec": {
   "display_name": "Python 3 (ipykernel)",
   "language": "python",
   "name": "python3"
  },
  "language_info": {
   "codemirror_mode": {
    "name": "ipython",
    "version": 3
   },
   "file_extension": ".py",
   "mimetype": "text/x-python",
   "name": "python",
   "nbconvert_exporter": "python",
   "pygments_lexer": "ipython3",
   "version": "3.9.7"
  }
 },
 "nbformat": 4,
 "nbformat_minor": 5
}
