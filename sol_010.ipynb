{
 "cells": [
  {
   "cell_type": "code",
   "execution_count": 59,
   "id": "e25a5d42-f3c1-4177-a3f6-e45fb43525f1",
   "metadata": {},
   "outputs": [
    {
     "name": "stdin",
     "output_type": "stream",
     "text": [
      " 1\n",
      " 3\n",
      " 6 8 7\n",
      " 6 4 2\n",
      " 7 8 9\n"
     ]
    },
    {
     "name": "stdout",
     "output_type": "stream",
     "text": [
      "9\n"
     ]
    }
   ],
   "source": [
    "T = int(input()) #Test sayısı\n",
    "\n",
    "for tekrar in range(T):\n",
    "    N = int(input()) # NxN matriks oluşturulacak\n",
    "    arr = []\n",
    "    for x in range(N):\n",
    "        arr += [input().split()]  \n",
    "        for x in range(len(arr)):\n",
    "            for y in range(len(arr)):\n",
    "                arr[x][y] = int(arr[x][y]) \n",
    "    #Matris hazır\n",
    "    counter = 0\n",
    "    for j in range(len(arr)):\n",
    "        for q in range(len(arr)):\n",
    "            for i in range(len(arr)):\n",
    "                for p in range(len(arr)):\n",
    "                    if p >= i: \n",
    "                        if q >= j: \n",
    "                            if arr[i][j] > arr[p][q]:\n",
    "                                counter += 1\n",
    "    print(counter)"
   ]
  },
  {
   "cell_type": "code",
   "execution_count": 2,
   "id": "9b69d527-8c27-4c2f-b047-e367b518d099",
   "metadata": {},
   "outputs": [
    {
     "name": "stdin",
     "output_type": "stream",
     "text": [
      "Kaç harf girilecek? 4\n",
      "Harf giriniz: h\n",
      "Harf giriniz: d\n",
      "Harf giriniz: tyy\n",
      "Harf giriniz: d\n"
     ]
    },
    {
     "name": "stdout",
     "output_type": "stream",
     "text": [
      "['h', 'd', 'tyy', 'd']\n"
     ]
    }
   ],
   "source": [
    "L = []\n",
    "\n",
    "X = int(input(\"Kaç harf girilecek?\"))\n",
    "\n",
    "for i in range(X):\n",
    "    L.append(input(\"Harf giriniz:\")) \n",
    "    \n",
    "print(L)"
   ]
  },
  {
   "cell_type": "code",
   "execution_count": 9,
   "id": "9384157b-e8f7-42df-ad2f-fea268257bd3",
   "metadata": {},
   "outputs": [
    {
     "name": "stdout",
     "output_type": "stream",
     "text": [
      "Kadir Kiraz,Ayaz Kul,Aynur Ay,Aysun Sunar,Mehmet Soner\n"
     ]
    }
   ],
   "source": [
    "ogrenci = [\"Kadir Kiraz\", \"Ayaz Kul\", \"Aynur Ay\", \"Aysun Sunar\", \"Mehmet Soner\"]\n",
    "A = int(input(\"Kaç öğrenci eklenecek?\"))\n",
    "for i in range(A):\n",
    "    ogrenci.append(input(\"Yeni öğrenciyi ekleyiniz:\"))\n",
    "    ogrenci = \",\".join(ogrenci)                #List to String işlemi bu satır     \n",
    "\n",
    "\n",
    "print(ogrenci)"
   ]
  },
  {
   "cell_type": "code",
   "execution_count": 4,
   "id": "0093271b-d7e0-4c95-b81a-42e09c9eb87e",
   "metadata": {},
   "outputs": [
    {
     "name": "stdin",
     "output_type": "stream",
     "text": [
      "Kaç öğrenci eklenecek ? 1\n",
      "Yeni öğrencinin ismi ve soyismi : nedim akıl\n"
     ]
    },
    {
     "name": "stdout",
     "output_type": "stream",
     "text": [
      "Kadir Kiraz,Kadir Kul,Aynur Ay,Aysun Sunar,Mehmet Soner,nedim akıl\n"
     ]
    },
    {
     "data": {
      "text/plain": [
       "'\\nogrenci = ogrenci.replace(\" \",\"\")\\n\\nprint(ogrenci.lower())\\n'"
      ]
     },
     "execution_count": 4,
     "metadata": {},
     "output_type": "execute_result"
    }
   ],
   "source": [
    "ogrenci = [\"Kadir Kiraz\",\"Kadir Kul\",\"Aynur Ay\",\"Aysun Sunar\",\"Mehmet Soner\"]\n",
    "\n",
    "X = int(input(\"Kaç öğrenci eklenecek ?\"))\n",
    "\n",
    "for i in range(X):\n",
    "    Y = input(\"Yeni öğrencinin ismi ve soyismi :\")\n",
    "    ogrenci.append(Y)\n",
    "\n",
    "ogrenci = \",\".join(ogrenci)                #List to String işlemi bu satır     \n",
    "print(ogrenci)\n",
    "\"\"\"\n",
    "ogrenci = ogrenci.replace(\" \",\"\")\n",
    "\n",
    "print(ogrenci.lower())\n",
    "\"\"\""
   ]
  },
  {
   "cell_type": "code",
   "execution_count": 7,
   "id": "35595450-40d9-4abf-a303-42737411b666",
   "metadata": {},
   "outputs": [
    {
     "name": "stdin",
     "output_type": "stream",
     "text": [
      "Kaç öğrenci eklenecek ? 1\n",
      "Yeni öğrencinin ismi ve soyismi : nedim akıl\n"
     ]
    },
    {
     "name": "stdout",
     "output_type": "stream",
     "text": [
      "['nedim akıl']\n"
     ]
    }
   ],
   "source": [
    "A=[]\n",
    "X = int(input(\"Kaç öğrenci eklenecek ?\"))\n",
    "\n",
    "for i in range(X):\n",
    "    Y = input(\"Yeni öğrencinin ismi ve soyismi :\")\n",
    "    A.append(Y)\n",
    "    print(A)"
   ]
  },
  {
   "cell_type": "code",
   "execution_count": 23,
   "id": "f59035d8-8ba9-4251-ba0f-33bd67e50f89",
   "metadata": {},
   "outputs": [
    {
     "ename": "AttributeError",
     "evalue": "'list' object has no attribute 'str'",
     "output_type": "error",
     "traceback": [
      "\u001b[1;31m---------------------------------------------------------------------------\u001b[0m",
      "\u001b[1;31mAttributeError\u001b[0m                            Traceback (most recent call last)",
      "\u001b[1;32m~\\AppData\\Local\\Temp/ipykernel_11064/535593529.py\u001b[0m in \u001b[0;36m<module>\u001b[1;34m\u001b[0m\n\u001b[0;32m      1\u001b[0m \u001b[0mogrenci\u001b[0m \u001b[1;33m=\u001b[0m \u001b[1;33m[\u001b[0m\u001b[1;34m\"Kadir Kiraz\"\u001b[0m\u001b[1;33m,\u001b[0m \u001b[1;34m\"Ayaz Kul\"\u001b[0m\u001b[1;33m,\u001b[0m \u001b[1;34m\"Aynur Ay\"\u001b[0m\u001b[1;33m,\u001b[0m \u001b[1;34m\"Aysun Sunar\"\u001b[0m\u001b[1;33m,\u001b[0m \u001b[1;34m\"Mehmet Soner\"\u001b[0m\u001b[1;33m]\u001b[0m\u001b[1;33m\u001b[0m\u001b[1;33m\u001b[0m\u001b[0m\n\u001b[1;32m----> 2\u001b[1;33m \u001b[0mogrenci\u001b[0m\u001b[1;33m=\u001b[0m\u001b[0mogrenci\u001b[0m\u001b[1;33m.\u001b[0m\u001b[0mstr\u001b[0m\u001b[1;33m.\u001b[0m\u001b[0mlower\u001b[0m\u001b[1;33m(\u001b[0m\u001b[1;33m)\u001b[0m\u001b[1;33m\u001b[0m\u001b[1;33m\u001b[0m\u001b[0m\n\u001b[0m\u001b[0;32m      3\u001b[0m \u001b[0mprint\u001b[0m\u001b[1;33m(\u001b[0m\u001b[0mogrenci\u001b[0m\u001b[1;33m)\u001b[0m\u001b[1;33m\u001b[0m\u001b[1;33m\u001b[0m\u001b[0m\n",
      "\u001b[1;31mAttributeError\u001b[0m: 'list' object has no attribute 'str'"
     ]
    }
   ],
   "source": [
    "ogrenci = [\"Kadir Kiraz\", \"Ayaz Kul\", \"Aynur Ay\", \"Aysun Sunar\", \"Mehmet Soner\"]\n",
    "ogrenci=ogrenci.str.lower()\n",
    "print(ogrenci)"
   ]
  },
  {
   "cell_type": "code",
   "execution_count": 24,
   "id": "89087b47-abd8-4d79-a823-530e97887a53",
   "metadata": {},
   "outputs": [
    {
     "name": "stdout",
     "output_type": "stream",
     "text": [
      "['hello', 'internet', 'people']\n"
     ]
    }
   ],
   "source": [
    "s = [\"hEllO\",\"iNteRneT\",\"pEopLe\"]\n",
    "for i in range(len(s)):\n",
    "    s[i] = s[i].lower()\n",
    "print(s)"
   ]
  },
  {
   "cell_type": "code",
   "execution_count": 57,
   "id": "02c676e4-d06d-4f6f-90d4-d1ad74972554",
   "metadata": {},
   "outputs": [
    {
     "name": "stdin",
     "output_type": "stream",
     "text": [
      "Kaç öğrenci eklenecek ? 1\n",
      "Yeni öğrencinin ismi ve soyismi : Nedim Akıl\n"
     ]
    },
    {
     "name": "stdout",
     "output_type": "stream",
     "text": [
      "['kadirkiraz', 'kadirkul', 'aynuray', 'aysunsunar', 'mehmetsoner', 'nedimakıl']\n",
      "[0, 0, 0, 0, 0, 0]\n"
     ]
    }
   ],
   "source": [
    "ogrenci = [\"Kadir Kiraz\",\"Kadir Kul\",\"Aynur Ay\",\"Aysun Sunar\",\"Mehmet Soner\"]\n",
    "for i in range(len(ogrenci)):\n",
    "    ogrenci[i] = ogrenci[i].lower()\n",
    "    \n",
    "X = int(input(\"Kaç öğrenci eklenecek ?\"))\n",
    "for i in range(X):\n",
    "    Y = ogrenci.append(input(\"Yeni öğrencinin ismi ve soyismi :\").lower())\n",
    "ogrenci=','.join(ogrenci)\n",
    "ogrenci=ogrenci.replace(\" \",\"\")\n",
    "\n",
    "ogrenci=ogrenci.split(\",\")\n",
    "print(ogrenci)\n",
    "\n",
    "size=len(ogrenci)\n",
    "tmpString = [0]*size\n",
    "print(tmpString)"
   ]
  },
  {
   "cell_type": "code",
   "execution_count": null,
   "id": "d6cc4281-c978-4c24-b6d5-e02fb4d3d9a2",
   "metadata": {},
   "outputs": [],
   "source": [
    "def siralamaislemi(arr, ogrenci):    # arr: 0lardan oluşan dizi\\  ogrenci: isimler\n",
    "    n = len(arr)  #6 tane 0lardan oluşan array\n",
    "    for i in range(n-1): #5\n",
    "        for j in range(0, n-i-1): #0,5-i  = 5 , 4 , 3 , 2 , 1\n",
    "            if arr[j] > arr[j+1]:\n",
    "                arr[j], arr[j+1] = arr[j+1], arr[j]\n",
    "                ogrenci[j],ogrenci[j+1] = ogrenci[j+1],ogrenci[j]l\n",
    "\n",
    "                \n",
    "def diziyiYazdir(arr):\n",
    "    n = len(arr)\n",
    "    for i in range(n):\n",
    "        print(arr[i])\n",
    "    \n",
    "siralamaislemi(tempString,ogrenci)\n",
    "diziyiYazdir(ogrenci)"
   ]
  }
 ],
 "metadata": {
  "kernelspec": {
   "display_name": "Python 3 (ipykernel)",
   "language": "python",
   "name": "python3"
  },
  "language_info": {
   "codemirror_mode": {
    "name": "ipython",
    "version": 3
   },
   "file_extension": ".py",
   "mimetype": "text/x-python",
   "name": "python",
   "nbconvert_exporter": "python",
   "pygments_lexer": "ipython3",
   "version": "3.9.7"
  }
 },
 "nbformat": 4,
 "nbformat_minor": 5
}
