{
 "cells": [
  {
   "cell_type": "markdown",
   "id": "8f243242",
   "metadata": {},
   "source": [
    "Alperen Emre Candan - 02210201026"
   ]
  },
  {
   "cell_type": "code",
   "execution_count": 10,
   "id": "4b5b1628",
   "metadata": {},
   "outputs": [
    {
     "name": "stdout",
     "output_type": "stream",
     "text": [
      "False\n"
     ]
    }
   ],
   "source": [
    "n = 4            #satir\n",
    "m = 4            #sutun\n",
    "\n",
    "matris = [[4, 1, 7, 2],\n",
    "          [7, 4, 1, 9],\n",
    "          [4, 7, 4, 1],\n",
    "          [2, 4, 7, 4]]\n",
    "\n",
    "x = 1\n",
    "for i in range(1,m):\n",
    "    for j in range(1,m):      #matrisi kontrol eder\n",
    "        \n",
    "        if matris[i][j] != matris[i-1][j-1]:     #çapraz değerler eşit mi kontrol eder\n",
    "            x=0\n",
    "            break\n",
    "            \n",
    "if x==1:\n",
    "    print(True)\n",
    "else:\n",
    "    print(False)"
   ]
  }
 ],
 "metadata": {
  "kernelspec": {
   "display_name": "Python 3 (ipykernel)",
   "language": "python",
   "name": "python3"
  },
  "language_info": {
   "codemirror_mode": {
    "name": "ipython",
    "version": 3
   },
   "file_extension": ".py",
   "mimetype": "text/x-python",
   "name": "python",
   "nbconvert_exporter": "python",
   "pygments_lexer": "ipython3",
   "version": "3.9.7"
  }
 },
 "nbformat": 4,
 "nbformat_minor": 5
}
