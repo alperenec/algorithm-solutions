{
 "cells": [
  {
   "cell_type": "code",
   "execution_count": 10,
   "id": "f25d9196",
   "metadata": {},
   "outputs": [
    {
     "name": "stdin",
     "output_type": "stream",
     "text": [
      "NxN matris için N: 6\n"
     ]
    }
   ],
   "source": [
    "import random\n",
    "\n",
    "N = int(input(\"NxN matris için N:\"))\n",
    "if N%2==1:\n",
    "    N-=1"
   ]
  },
  {
   "cell_type": "code",
   "execution_count": 18,
   "id": "9922c157",
   "metadata": {},
   "outputs": [
    {
     "name": "stdout",
     "output_type": "stream",
     "text": [
      "[57, 36, 14, 45, 49, 46]\n",
      "[77, 83, 82, 34, 11, 73]\n",
      "[97, 86, 17, 97, 37, 14]\n",
      "[74, 83, 45, 19, 28, 23]\n",
      "[1, 6, 15, 18, 21, 15]\n",
      "[55, 11, 98, 55, 8, 88]\n",
      "\n",
      "[63, 44, 45]\n",
      "[85, 44, 26]\n",
      "[18, 46, 33]\n"
     ]
    }
   ],
   "source": [
    "M = [[(round(random.random()*100))for i in range (N)] for j in range(N)]\n",
    "My=[[0 for i in range (int(N/2))] for j in range (int(N/2))]\n",
    "for i in range(int(N/2)):\n",
    "    for j in range(int(N/2)):\n",
    "        My[i][j]=round((M[2*i][2*j]+M[2*i+1][2*j]+M[2*i][2*j+1]+M[2*i+1][2*j+1])/4)\n",
    "for i in range(int(N)):\n",
    "    print(M[i])\n",
    "print()\n",
    "for i in range(int(N/2)):\n",
    "    print(My[i])"
   ]
  },
  {
   "cell_type": "code",
   "execution_count": 12,
   "id": "7e248807",
   "metadata": {},
   "outputs": [
    {
     "name": "stdout",
     "output_type": "stream",
     "text": [
      "NxN matris için N:9\n",
      "4\n",
      "8\n"
     ]
    }
   ],
   "source": [
    "N = int(input(\"NxN matris için N:\"))\n",
    "k = int(input())\n",
    "if N%k != 0:\n",
    "    N-=1\n",
    "print(N)"
   ]
  },
  {
   "cell_type": "code",
   "execution_count": null,
   "id": "72a3999d",
   "metadata": {},
   "outputs": [],
   "source": []
  }
 ],
 "metadata": {
  "kernelspec": {
   "display_name": "Python 3 (ipykernel)",
   "language": "python",
   "name": "python3"
  },
  "language_info": {
   "codemirror_mode": {
    "name": "ipython",
    "version": 3
   },
   "file_extension": ".py",
   "mimetype": "text/x-python",
   "name": "python",
   "nbconvert_exporter": "python",
   "pygments_lexer": "ipython3",
   "version": "3.9.7"
  }
 },
 "nbformat": 4,
 "nbformat_minor": 5
}
