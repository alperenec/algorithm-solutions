{
 "cells": [
  {
   "cell_type": "markdown",
   "id": "b2b085b4-c29a-4709-812a-b7a4d39dfa0f",
   "metadata": {},
   "source": [
    "matris küçültme, mesela 10x10luk matrisi iki kat küçültüp 5x5lik matrise dönüştürebiliriz\n"
   ]
  },
  {
   "cell_type": "code",
   "execution_count": 3,
   "id": "43e9fcd5-d4d6-42b0-8552-e4aa262550f8",
   "metadata": {},
   "outputs": [],
   "source": [
    "import random"
   ]
  },
  {
   "cell_type": "code",
   "execution_count": 6,
   "id": "089dc536-9c7e-4d26-b4d3-b0bcfa7ce68e",
   "metadata": {},
   "outputs": [
    {
     "name": "stdin",
     "output_type": "stream",
     "text": [
      "n= 7\n"
     ]
    },
    {
     "name": "stdout",
     "output_type": "stream",
     "text": [
      "6\n"
     ]
    }
   ],
   "source": [
    "n=int(input(\"n=\"))\n",
    "if n%2==1:\n",
    "    n-=1\n",
    "print(n)"
   ]
  },
  {
   "cell_type": "code",
   "execution_count": 54,
   "id": "fb533ebc-522b-4980-95a4-4ac5a3774291",
   "metadata": {},
   "outputs": [
    {
     "ename": "TypeError",
     "evalue": "'list' object cannot be interpreted as an integer",
     "output_type": "error",
     "traceback": [
      "\u001b[1;31m---------------------------------------------------------------------------\u001b[0m",
      "\u001b[1;31mTypeError\u001b[0m                                 Traceback (most recent call last)",
      "\u001b[1;32m~\\AppData\\Local\\Temp/ipykernel_12908/513088778.py\u001b[0m in \u001b[0;36m<module>\u001b[1;34m\u001b[0m\n\u001b[1;32m----> 1\u001b[1;33m \u001b[0mM\u001b[0m\u001b[1;33m=\u001b[0m\u001b[1;33m[\u001b[0m\u001b[1;33m[\u001b[0m\u001b[0mround\u001b[0m\u001b[1;33m(\u001b[0m\u001b[0mrandom\u001b[0m\u001b[1;33m.\u001b[0m\u001b[0mrandom\u001b[0m\u001b[1;33m(\u001b[0m\u001b[1;33m)\u001b[0m\u001b[1;33m*\u001b[0m\u001b[1;36m100\u001b[0m\u001b[1;33m)\u001b[0m \u001b[1;32mfor\u001b[0m \u001b[0mi\u001b[0m \u001b[1;32min\u001b[0m \u001b[0mrange\u001b[0m\u001b[1;33m(\u001b[0m\u001b[0mn\u001b[0m\u001b[1;33m)\u001b[0m\u001b[1;33m]\u001b[0m \u001b[1;32mfor\u001b[0m \u001b[0mj\u001b[0m \u001b[1;32min\u001b[0m \u001b[0mrange\u001b[0m\u001b[1;33m(\u001b[0m\u001b[0mn\u001b[0m\u001b[1;33m)\u001b[0m\u001b[1;33m]\u001b[0m\u001b[1;33m\u001b[0m\u001b[1;33m\u001b[0m\u001b[0m\n\u001b[0m\u001b[0;32m      2\u001b[0m \u001b[1;32mfor\u001b[0m \u001b[0mi\u001b[0m \u001b[1;32min\u001b[0m \u001b[0mrange\u001b[0m\u001b[1;33m(\u001b[0m\u001b[0mlen\u001b[0m\u001b[1;33m(\u001b[0m\u001b[0mM\u001b[0m\u001b[1;33m)\u001b[0m\u001b[1;33m)\u001b[0m\u001b[1;33m:\u001b[0m\u001b[1;33m\u001b[0m\u001b[1;33m\u001b[0m\u001b[0m\n\u001b[0;32m      3\u001b[0m     \u001b[0mprint\u001b[0m\u001b[1;33m(\u001b[0m\u001b[0mi\u001b[0m\u001b[1;33m)\u001b[0m\u001b[1;33m\u001b[0m\u001b[1;33m\u001b[0m\u001b[0m\n",
      "\u001b[1;31mTypeError\u001b[0m: 'list' object cannot be interpreted as an integer"
     ]
    }
   ],
   "source": [
    "M=[[round(random.random()*100) for i in range(n)] for j in range(n)]\n",
    "for i in range(len(M)):\n",
    "    print(i)"
   ]
  },
  {
   "cell_type": "code",
   "execution_count": 19,
   "id": "43d0f1de-5eb0-4463-afc5-3f97f5dfe480",
   "metadata": {},
   "outputs": [
    {
     "name": "stdout",
     "output_type": "stream",
     "text": [
      "[[27.25, 41.75, 51.75], [49.0, 25.75, 49.25], [45.75, 57.25, 53.75]]\n"
     ]
    }
   ],
   "source": [
    "My= [[0 for i in range(int(n/2))] for j in range(int(n/2))]\n",
    "for i in range(int(n/2)):\n",
    "    for j in range(int(n/2)):\n",
    "        My[i][j]=(M[2*i][2*j]+M[2*i+1][2*j]+M[2*i][2*j+1]+M[2*i+1][2*j+1])/4\n",
    "print(My)"
   ]
  },
  {
   "cell_type": "markdown",
   "id": "f6ca1d24-1ddb-45d9-93a2-2933c26ffd49",
   "metadata": {},
   "source": [
    "..........................................örnek çözüm matrislerle ilgili.........................................."
   ]
  },
  {
   "cell_type": "code",
   "execution_count": 7,
   "id": "21e2c436-40dc-4e5f-8533-454d5a21c744",
   "metadata": {},
   "outputs": [
    {
     "name": "stdout",
     "output_type": "stream",
     "text": [
      "[4, 5, 8]\n",
      "[2, 5, 8]\n",
      "[1, 2, 3]\n",
      "\n",
      "[2, 1, 3]\n",
      "[1, 8, 8]\n",
      "[6, 4, 5]\n",
      "\n",
      "toplamları:\n",
      "[6, 6, 11]\n",
      "[3, 13, 16]\n",
      "[7, 6, 8]\n"
     ]
    }
   ],
   "source": [
    "m1=[[4,5,8],\n",
    "   [2,5,8],\n",
    "   [1,2,3]]\n",
    "\n",
    "for i in range(3):\n",
    "    print(m1[i])\n",
    "print()\n",
    "m2=[[2,1,3],\n",
    "    [1,8,8],\n",
    "    [6,4,5]]\n",
    "\n",
    "for i in range(3):\n",
    "    print(m2[i])\n",
    "    \n",
    "m3=[[0,0,0],\n",
    "    [0,0,0],\n",
    "    [0,0,0]]\n",
    "print()\n",
    "\n",
    "for i in range(3):\n",
    "    for j in range(3):\n",
    "        m3[i][j]=m1[i][j]+m2[i][j]\n",
    "        \n",
    "print(\"toplamları:\")\n",
    "for i in range(3):\n",
    "    print(m3[i])"
   ]
  },
  {
   "cell_type": "code",
   "execution_count": 32,
   "id": "197cb677-b076-47e5-9e05-5cc32d66e137",
   "metadata": {},
   "outputs": [
    {
     "name": "stdin",
     "output_type": "stream",
     "text": [
      " 3 5\n"
     ]
    },
    {
     "name": "stdout",
     "output_type": "stream",
     "text": [
      "satır 3 sütun 5\n"
     ]
    }
   ],
   "source": [
    "n=list(map(int, input().split()))\n",
    "satir=n[0]\n",
    "sutun=n[1]\n",
    "print(\"satır\",satir,\"sütun\",sutun)"
   ]
  },
  {
   "cell_type": "markdown",
   "id": "66d3a025-af7e-4352-bb73-de97d984902e",
   "metadata": {},
   "source": [
    "............................................transpoz alma..........................................."
   ]
  },
  {
   "cell_type": "code",
   "execution_count": 51,
   "id": "2e13492a-644e-4853-81f7-44c9b9d29218",
   "metadata": {},
   "outputs": [
    {
     "name": "stdin",
     "output_type": "stream",
     "text": [
      " 3 5\n"
     ]
    },
    {
     "name": "stdout",
     "output_type": "stream",
     "text": [
      "[0, 0, 0, 0, 0]\n",
      "[0, 0, 0, 0, 0]\n",
      "[0, 0, 0, 0, 0]\n",
      "\n",
      "[4, 0, 1, 4, 3]\n",
      "[6, 5, 3, 1, 7]\n",
      "[1, 2, 4, 9, 0]\n",
      "\n",
      "[4, 6, 1]\n",
      "[0, 5, 2]\n",
      "[1, 3, 4]\n",
      "[4, 1, 9]\n",
      "[3, 7, 0]\n"
     ]
    }
   ],
   "source": [
    "import random\n",
    "n=list(map(int, input().split()))\n",
    "satir=n[0]\n",
    "sutun=n[1]\n",
    "\n",
    "m=[[0 for x in range(sutun)] for y in range(satir)]\n",
    "for i in m:\n",
    "    print(i)\n",
    "mt=[[0 for x in range(satir)] for y in range(sutun)]\n",
    "\n",
    "for i in range(satir):\n",
    "    for j in range(sutun):\n",
    "        m[i][j] = random.randint(0,9)\n",
    "        mt[j][i] = m[i][j]\n",
    "        \n",
    "print()\n",
    "for i in range(satir):\n",
    "    print(m[i])\n",
    "print()\n",
    "for i in range(sutun):\n",
    "    print(mt[i])"
   ]
  }
 ],
 "metadata": {
  "kernelspec": {
   "display_name": "Python 3 (ipykernel)",
   "language": "python",
   "name": "python3"
  },
  "language_info": {
   "codemirror_mode": {
    "name": "ipython",
    "version": 3
   },
   "file_extension": ".py",
   "mimetype": "text/x-python",
   "name": "python",
   "nbconvert_exporter": "python",
   "pygments_lexer": "ipython3",
   "version": "3.9.7"
  }
 },
 "nbformat": 4,
 "nbformat_minor": 5
}
