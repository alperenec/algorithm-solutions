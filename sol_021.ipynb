{
 "cells": [
  {
   "cell_type": "code",
   "execution_count": 2,
   "id": "39db7337-598d-4465-8731-d12c85e107e4",
   "metadata": {},
   "outputs": [
    {
     "name": "stdout",
     "output_type": "stream",
     "text": [
      "Element is not present in array\n"
     ]
    }
   ],
   "source": [
    "def binary_search(arr, l, r, x):\n",
    "    if r >= l:\n",
    "        mid = (l + r) // 2\n",
    "        if arr[mid] == x:\n",
    "            return mid\n",
    "        elif arr[mid] > x:\n",
    "            return binary_search(arr, l, mid - 1, x)\n",
    "        else:\n",
    "            return binary_search(arr, mid + 1, r, x)\n",
    "    else:\n",
    "        return -1\n",
    "\n",
    "arr = [  11, 55, 44, 22, 66, 45, 885, 52, 52, 45, 25, 21, 21, 52, 85, 45 ]\n",
    "x = 21\n",
    "\n",
    "result = binary_search(arr, 0, len(arr)-1, x)\n",
    "if result != -1:\n",
    "    print(\"Element is present at index\", str(result))\n",
    "else:\n",
    "    print(\"Element is not present in array\")"
   ]
  },
  {
   "cell_type": "code",
   "execution_count": 15,
   "id": "91f89666-aa2c-421b-9542-0dd9efe5062f",
   "metadata": {},
   "outputs": [
    {
     "data": {
      "text/plain": [
       "14"
      ]
     },
     "execution_count": 15,
     "metadata": {},
     "output_type": "execute_result"
    }
   ],
   "source": [
    "def search(l,r,x):\n",
    "    if r>=l:\n",
    "        mid1=int(l + (r-l)/3)\n",
    "        mid2=int(r - (r-l)/3)\n",
    "        if (ar[mid1]==x):\n",
    "            return mid1\n",
    "        elif (ar[mid2]==x):\n",
    "            return mid2\n",
    "        elif (x<ar[mid1]):\n",
    "            return search(l,mid1-1,x)\n",
    "        elif (x>ar[mid2]):\n",
    "            return search(mid2+1,r,x)\n",
    "        else:\n",
    "            return search(mid1+1,mid2-1,x)\n",
    "        \n",
    "ar = [  11, 55, 44, 22, 66, 45, 885, 52, 52, 45, 25, 21, 21, 52, 85, 45 ]\n",
    "search(0,15,85)"
   ]
  },
  {
   "cell_type": "code",
   "execution_count": 18,
   "id": "19f30d4a-61c6-4597-ba43-762decac4b9a",
   "metadata": {},
   "outputs": [
    {
     "name": "stdin",
     "output_type": "stream",
     "text": [
      " 6 7\n",
      " 8 5 4 9 7 5\n"
     ]
    },
    {
     "name": "stdout",
     "output_type": "stream",
     "text": [
      "5\n"
     ]
    }
   ],
   "source": [
    "size, target = input().split()\n",
    "arr = [int(value) for value in input().split()]\n",
    "if int(target) in arr:\n",
    "    arr.reverse()\n",
    "    ans = int(size)-arr.index(int(target))\n",
    "    print(ans)\n",
    "else:\n",
    "    print(\"-1\")"
   ]
  },
  {
   "cell_type": "code",
   "execution_count": 2,
   "id": "64faff2d-7c5f-46a2-9a5e-9137f1be697c",
   "metadata": {},
   "outputs": [
    {
     "name": "stdin",
     "output_type": "stream",
     "text": [
      " 1\n",
      " 5 2\n",
      " 1 3 5 7 9\n"
     ]
    },
    {
     "name": "stdout",
     "output_type": "stream",
     "text": [
      "7 9 1 3 5 "
     ]
    }
   ],
   "source": [
    "t=int(input())\n",
    "for Ti in range(t):\n",
    "    n,k=map(int, input().split())\n",
    "\n",
    "    arr= list(map(int, input().split()))\n",
    "\n",
    "    for j in range(k):\n",
    "        tmp= arr[-1]\n",
    "        for i in range(n-1,0,-1):\n",
    "            arr[i]=arr[i-1]\n",
    "        arr[0]=tmp\n",
    "\n",
    "    for a in arr:\n",
    "        print(a, end=\" \")"
   ]
  },
  {
   "cell_type": "code",
   "execution_count": 10,
   "id": "860fcb77-c91b-407e-9ef1-afbb43f80d2a",
   "metadata": {},
   "outputs": [
    {
     "name": "stdin",
     "output_type": "stream",
     "text": [
      " 2\n",
      " 5 2\n",
      " 1 2 3 4 5 \n"
     ]
    },
    {
     "name": "stdout",
     "output_type": "stream",
     "text": [
      "4 5 1 2 3 "
     ]
    },
    {
     "name": "stdin",
     "output_type": "stream",
     "text": [
      " 6 4\n",
      " 3 4 9 8 6 2 \n"
     ]
    },
    {
     "name": "stdout",
     "output_type": "stream",
     "text": [
      "9 8 6 2 3 4 "
     ]
    }
   ],
   "source": [
    "t=int(input())\n",
    "for Ti in range(t):\n",
    "    n,k=map(int,input().split())\n",
    "\n",
    "    arr=input().split()           #!#arr dizisini alıp bölüp arr içindeki her haneyi integer'a çevirmek için\n",
    "    for i in range(len(arr)):            \n",
    "        arr[i]=int(arr[i])\n",
    "\n",
    "    for l in range(k):              #k kadar döndürcek\n",
    "        tmp=arr[-1]                        #bu dört satır 1 kere döndürmek içün\n",
    "        for j in range(n-1,0,-1):\n",
    "            arr[j]=arr[j-1]\n",
    "        arr[0]=tmp\n",
    "    \n",
    "    for a in arr:              #listeden çıkarıp sade yazmak içün [1,2,3,4,5]  => 1 2 3 4 5\n",
    "        print(a,end=\" \")\n",
    "    print(\"\\n\")"
   ]
  },
  {
   "cell_type": "code",
   "execution_count": 12,
   "id": "f62dfb4f-1bf9-40dd-901a-b10eee3b1239",
   "metadata": {},
   "outputs": [
    {
     "name": "stdin",
     "output_type": "stream",
     "text": [
      " 1\n",
      " 2\n",
      " 4 3\n",
      " 1 4\n"
     ]
    },
    {
     "name": "stdout",
     "output_type": "stream",
     "text": [
      "2\n"
     ]
    }
   ],
   "source": [
    "t=int(input())\n",
    "for ti in range(t):\n",
    "    n=int(input())\n",
    "    arr=[]\n",
    "    for i in range(n):\n",
    "        arr+=[input().split()]\n",
    "        for x in range(len(arr)):\n",
    "            for y in range(len(arr)):\n",
    "                arr[x][y]=int(arr[x][y])   #matris hazır\n",
    "\n",
    "    counter=0\n",
    "    for i in range(len(arr)):\n",
    "        for j in range(len(arr)):\n",
    "            for p in range(len(arr)):\n",
    "                for q in range(len(arr)):\n",
    "                    if i<=p and j<=q:\n",
    "                        if arr[i][j]>arr[p][q]:\n",
    "                            counter+=1\n",
    "    print(counter)\n",
    "\n",
    "#klasik çözüm"
   ]
  },
  {
   "cell_type": "code",
   "execution_count": 16,
   "id": "bb76c94b-2f26-44b6-b193-a71e8ee6384d",
   "metadata": {},
   "outputs": [
    {
     "name": "stdin",
     "output_type": "stream",
     "text": [
      " 1\n",
      " 2\n",
      " 4 3\n",
      " 1 4\n"
     ]
    },
    {
     "name": "stdout",
     "output_type": "stream",
     "text": [
      "2\n"
     ]
    }
   ],
   "source": [
    "#video çözümü\n",
    "\n",
    "t=int(input())\n",
    "while t!=0:\n",
    "    n=int(input())\n",
    "    arr=[]\n",
    "    for i in range(n):\n",
    "        arr.append(list(map(int,input().split())))\n",
    "    count=0\n",
    "\n",
    "    for i in range(n):\n",
    "        for j in range(n):\n",
    "            for p in range(i,n):\n",
    "                for q in range(j,n):\n",
    "                    if arr[i][j]>arr[p][q]:\n",
    "                        count+=1\n",
    "\n",
    "    print(count)\n",
    "    t-=1"
   ]
  }
 ],
 "metadata": {
  "kernelspec": {
   "display_name": "Python 3 (ipykernel)",
   "language": "python",
   "name": "python3"
  },
  "language_info": {
   "codemirror_mode": {
    "name": "ipython",
    "version": 3
   },
   "file_extension": ".py",
   "mimetype": "text/x-python",
   "name": "python",
   "nbconvert_exporter": "python",
   "pygments_lexer": "ipython3",
   "version": "3.9.7"
  }
 },
 "nbformat": 4,
 "nbformat_minor": 5
}
