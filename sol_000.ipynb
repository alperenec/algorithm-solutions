{
 "cells": [
  {
   "cell_type": "markdown",
   "id": "38cb16c2-a120-4c90-beb4-229712912112",
   "metadata": {},
   "source": [
    "Subarray with given sum https://practice.geeksforgeeks.org/problems/subarray-with-given-sum-1587115621/1#"
   ]
  },
  {
   "cell_type": "code",
   "execution_count": 20,
   "id": "17b711b2",
   "metadata": {},
   "outputs": [
    {
     "name": "stdin",
     "output_type": "stream",
     "text": [
      "eleman sayısı gir: 9\n",
      "toplamı olmasını istediğini gir: 17\n",
      " 9 5 6 2 5 12 4 5 7\n"
     ]
    },
    {
     "name": "stdout",
     "output_type": "stream",
     "text": [
      "9 17 [9, 5, 6, 2, 5, 12, 4, 5, 7]\n",
      "5 ten 6 arası toplam istenileni verir\n"
     ]
    }
   ],
   "source": [
    "#https://practice.geeksforgeeks.org/problems/subarray-with-given-sum-1587115621/1#\n",
    "\n",
    "N=int(input(\"eleman sayısı gir:\"))                            #shift+enter=RUN\n",
    "S=int(input(\"toplamı olmasını istediğini gir:\"))\n",
    "A=list(map(int,input().split()))\n",
    "print(N,S,A)\n",
    "for ix in range(len(A)):\n",
    "    for iy in range(ix+1,len(A)+1):\n",
    "        top=0\n",
    "        for t in range(ix,iy):\n",
    "            top+=A[t]\n",
    "        if top==S:\n",
    "            print(ix+1,\"ten\",iy,\"arası toplam istenileni verir\")\n",
    "            break"
   ]
  },
  {
   "cell_type": "code",
   "execution_count": 16,
   "id": "c613d06b-6120-40eb-b9bd-c31333768046",
   "metadata": {},
   "outputs": [
    {
     "name": "stdout",
     "output_type": "stream",
     "text": [
      "4\n"
     ]
    }
   ],
   "source": [
    "print(t)"
   ]
  },
  {
   "cell_type": "code",
   "execution_count": null,
   "id": "30d8cdd2-560f-4c8c-9078-536889f3d3bd",
   "metadata": {},
   "outputs": [],
   "source": [
    "ix, iy\n",
    "0 0 x\n",
    "\n",
    "1 0 x\n",
    "1 1 x\n",
    "\n",
    "2 0 x\n",
    "2 1 x\n",
    "2 2 x\n",
    "\n",
    "3 0 x\n",
    "3 1 x\n",
    "3 2 x\n",
    "3 3 x\n",
    "4 0 x\n",
    "4 1 x\n",
    "4 2 x\n",
    "4 3 x\n",
    "4 4 x [ix:iy+1]"
   ]
  },
  {
   "cell_type": "markdown",
   "id": "25fe4ee0-f76b-494d-a0de-e77fc4c403e6",
   "metadata": {},
   "source": []
  },
  {
   "cell_type": "code",
   "execution_count": null,
   "id": "50fe6a2c-e83e-4d3b-b83b-e92f81891c8c",
   "metadata": {},
   "outputs": [],
   "source": []
  }
 ],
 "metadata": {
  "kernelspec": {
   "display_name": "Python 3 (ipykernel)",
   "language": "python",
   "name": "python3"
  },
  "language_info": {
   "codemirror_mode": {
    "name": "ipython",
    "version": 3
   },
   "file_extension": ".py",
   "mimetype": "text/x-python",
   "name": "python",
   "nbconvert_exporter": "python",
   "pygments_lexer": "ipython3",
   "version": "3.9.7"
  }
 },
 "nbformat": 4,
 "nbformat_minor": 5
}
