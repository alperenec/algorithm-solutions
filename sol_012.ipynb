{
 "cells": [
  {
   "cell_type": "code",
   "execution_count": 10,
   "id": "420667d2",
   "metadata": {},
   "outputs": [
    {
     "name": "stdout",
     "output_type": "stream",
     "text": [
      "['5', '4', 'apple']\n"
     ]
    }
   ],
   "source": [
    "txt = \"5 4 apple\"\n",
    "\n",
    "x = txt.split()\n",
    "\n",
    "print(x)"
   ]
  },
  {
   "cell_type": "code",
   "execution_count": 8,
   "id": "130d44d4",
   "metadata": {},
   "outputs": [
    {
     "name": "stdout",
     "output_type": "stream",
     "text": [
      "5 8 9\n",
      "['5', '8', '9']\n",
      "5\n",
      "8\n",
      "9\n"
     ]
    }
   ],
   "source": [
    "txt = input()\n",
    "\n",
    "x = txt.split()\n",
    "\n",
    "print(x)\n",
    "\n",
    "print(x[0])\n",
    "print(x[1])\n",
    "print(x[2])"
   ]
  },
  {
   "cell_type": "code",
   "execution_count": 9,
   "id": "e54370b7",
   "metadata": {},
   "outputs": [
    {
     "name": "stdout",
     "output_type": "stream",
     "text": [
      "2\n",
      "5 4\n",
      "5 8 9 2 1\n",
      "['1', '5', '8', '9', '2']\n"
     ]
    }
   ],
   "source": [
    "#rotated once\n",
    "T = int(input())\n",
    "txt=input()\n",
    "x=txt.split()\n",
    "N=int(x[0])\n",
    "K=int(x[1])\n",
    "\n",
    "arr=input()\n",
    "A=arr.split()\n",
    "tmp=A[N-1]\n",
    "for i in range(N,1,-1):\n",
    "    A[i-1]=A[i-2]\n",
    "A[0]=tmp\n",
    "print(A)"
   ]
  },
  {
   "cell_type": "code",
   "execution_count": 17,
   "id": "100d2aa2",
   "metadata": {},
   "outputs": [
    {
     "name": "stdout",
     "output_type": "stream",
     "text": [
      "1\n",
      "4 6\n",
      "5 1 3 7\n",
      "3 7 5 1 "
     ]
    }
   ],
   "source": [
    "# slow code error\n",
    "\n",
    "T = int(input())\n",
    "for tk in range(T):          # T kadar test elemanı\n",
    "    txt=input()\n",
    "    x=txt.split()\n",
    "    N=int(x[0])\n",
    "    K=int(x[1])\n",
    "\n",
    "    arr=input()\n",
    "    A=arr.split()\n",
    "    for i in range(len(A)):  # Amaç str ifadeyi int'e çevirmek\n",
    "        A[i]=int(A[i])\n",
    "\n",
    "    for j in range(K):       # K kadar bu işlemi yap\n",
    "        tmp=A[N-1]\n",
    "        for i in range(N,1,-1):\n",
    "            A[i-1]=A[i-2]\n",
    "        A[0]=tmp\n",
    "    for i in A:\n",
    "        print(i,end=\" \")\n"
   ]
  },
  {
   "cell_type": "code",
   "execution_count": null,
   "id": "04d8e7e1",
   "metadata": {},
   "outputs": [],
   "source": [
    "# from video, suitable for py2\n",
    "\"\"\"\"\n",
    "\n",
    "t=int(input())\n",
    "while t!=0:\n",
    "    n,k = map(int, input().split())\n",
    "    arr = map(int, input().split())\n",
    "    index = n - (k%n)\n",
    "    for i in range(index,n):\n",
    "        print (arr[i])\n",
    "    for i in range(index):\n",
    "        print (arr[i])\n",
    "    print(arr[i], end=\" \")\n",
    "    t-=1\n",
    "\n",
    "\"\"\"\""
   ]
  },
  {
   "cell_type": "code",
   "execution_count": null,
   "id": "06046f08",
   "metadata": {},
   "outputs": [],
   "source": [
    "11010"
   ]
  }
 ],
 "metadata": {
  "kernelspec": {
   "display_name": "Python 3 (ipykernel)",
   "language": "python",
   "name": "python3"
  },
  "language_info": {
   "codemirror_mode": {
    "name": "ipython",
    "version": 3
   },
   "file_extension": ".py",
   "mimetype": "text/x-python",
   "name": "python",
   "nbconvert_exporter": "python",
   "pygments_lexer": "ipython3",
   "version": "3.9.7"
  }
 },
 "nbformat": 4,
 "nbformat_minor": 5
}
