{
 "cells": [
  {
   "cell_type": "code",
   "execution_count": 33,
   "id": "19cb1952-53b2-4877-b200-721c954b5fb0",
   "metadata": {},
   "outputs": [
    {
     "name": "stdin",
     "output_type": "stream",
     "text": [
      " 6\n",
      " -2 4 -3 5 -1 7\n"
     ]
    },
    {
     "name": "stdout",
     "output_type": "stream",
     "text": [
      "6 [-2, 4, -3, 5, -1, 7]\n"
     ]
    }
   ],
   "source": [
    "n=int(input())\n",
    "arr=list(map(int, input().split()))\n",
    "print(n,arr)"
   ]
  },
  {
   "cell_type": "code",
   "execution_count": 34,
   "id": "5bf5384b-4bab-44c7-a4d6-4a0fd1dc3ad1",
   "metadata": {},
   "outputs": [
    {
     "name": "stdout",
     "output_type": "stream",
     "text": [
      "-2\n",
      "2\n",
      "-1\n",
      "4\n",
      "3\n",
      "10\n",
      "4\n",
      "1\n",
      "6\n",
      "5\n",
      "12\n",
      "-3\n",
      "2\n",
      "1\n",
      "8\n",
      "5\n",
      "4\n",
      "11\n",
      "-1\n",
      "6\n",
      "7\n",
      "[-2, 2, -1, 4, 3, 10, 4, 1, 6, 5, 12, -3, 2, 1, 8, 5, 4, 11, -1, 6, 7]\n"
     ]
    }
   ],
   "source": [
    "all_sum=[]\n",
    "for i in range(len(arr)):\n",
    "    for j in range(i,len(arr)):\n",
    "        sum=0\n",
    "        for x in range(i, j+1,1):\n",
    "            sum+=arr[x]\n",
    "        all_sum+=[sum]\n",
    "        print(sum)\n",
    "print(all_sum)"
   ]
  },
  {
   "cell_type": "code",
   "execution_count": 35,
   "id": "7e2972a9-709c-4c09-999c-6cb1547c51a2",
   "metadata": {},
   "outputs": [
    {
     "name": "stdout",
     "output_type": "stream",
     "text": [
      "12\n"
     ]
    }
   ],
   "source": [
    "max=all_sum[0]\n",
    "for i in range(1,len(all_sum)):\n",
    "    if all_sum[i]>max:\n",
    "        max=all_sum[i]\n",
    "print(max)"
   ]
  },
  {
   "cell_type": "code",
   "execution_count": null,
   "id": "ed0ade18-8c59-4527-9f0c-bf6e034148ec",
   "metadata": {},
   "outputs": [],
   "source": []
  }
 ],
 "metadata": {
  "kernelspec": {
   "display_name": "Python 3 (ipykernel)",
   "language": "python",
   "name": "python3"
  },
  "language_info": {
   "codemirror_mode": {
    "name": "ipython",
    "version": 3
   },
   "file_extension": ".py",
   "mimetype": "text/x-python",
   "name": "python",
   "nbconvert_exporter": "python",
   "pygments_lexer": "ipython3",
   "version": "3.9.7"
  }
 },
 "nbformat": 4,
 "nbformat_minor": 5
}
