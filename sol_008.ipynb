{
 "cells": [
  {
   "cell_type": "code",
   "execution_count": 11,
   "id": "1f0795d8",
   "metadata": {},
   "outputs": [
    {
     "name": "stdout",
     "output_type": "stream",
     "text": [
      "5 88 9 6 2\n",
      "[88, 9, 6, 5, 2]\n",
      "3\n"
     ]
    }
   ],
   "source": [
    "# Minimum AND xor OR , completed\n",
    "t=int(input())\n",
    "for i in range(t):\n",
    "\tn=int(input())\n",
    "\tg=input()\n",
    "\tk=g.split()\n",
    "\n",
    "\t#büyükten küçüğe sırala\n",
    "\tfor i in range(len(k)):\n",
    "\t\tk[i] = int(k[i])\n",
    "\tk.sort(reverse=True)\n",
    "\n",
    "\t#ardışık her 2liyi XORla  (^)\n",
    "\tx = k[0] ^ k[1]\n",
    "\tfor j in range(len(k)-1):\n",
    "\t\ta = k[j] ^ k[j+1]\n",
    "\t\tif a<x:\n",
    "\t\t\tx=a\n",
    "\tprint(x)"
   ]
  },
  {
   "cell_type": "code",
   "execution_count": 17,
   "id": "71a41ab6",
   "metadata": {},
   "outputs": [
    {
     "ename": "SyntaxError",
     "evalue": "EOF while scanning triple-quoted string literal (Temp/ipykernel_5500/469302211.py, line 11)",
     "output_type": "error",
     "traceback": [
      "\u001b[1;36m  File \u001b[1;32m\"C:\\Users\\alper\\AppData\\Local\\Temp/ipykernel_5500/469302211.py\"\u001b[1;36m, line \u001b[1;32m11\u001b[0m\n\u001b[1;33m    \u001b[0m\n\u001b[1;37m    ^\u001b[0m\n\u001b[1;31mSyntaxError\u001b[0m\u001b[1;31m:\u001b[0m EOF while scanning triple-quoted string literal\n"
     ]
    }
   ],
   "source": [
    "\"\"\"\n",
    "t=int(input())\n",
    "kn=input()\n",
    "a=kn.split()\n",
    "k=a[0]\n",
    "n=a[1]\n",
    "d=input()\n",
    "x=d.split()\n",
    "for i in range(len(x)-1):\n",
    "    m= x[n] , x[i+1]=x[i] \n",
    "\"\"\""
   ]
  },
  {
   "cell_type": "code",
   "execution_count": null,
   "id": "0197704a",
   "metadata": {},
   "outputs": [],
   "source": [
    "t=int(input())\n",
    "for s in range(t):\n",
    "    kn=input()\n",
    "    kn=kn.split()\n",
    "    k=kn[0]\n",
    "    n=kn[1]\n",
    "    arr=input().split()\n",
    "    k = int(k)\n",
    "    n = int(n)\n",
    "\n",
    "    for i in range(n):\n",
    "        arr2=[]\n",
    "        arr2 += arr[k-1]\n",
    "        arr2 += arr[0:(k-1)]\n",
    "        arr = arr2\n",
    "\n",
    "    for j in arr:\n",
    "        print(j, end=\" \")\n",
    "    print(\"\\n\")"
   ]
  },
  {
   "cell_type": "code",
   "execution_count": 32,
   "id": "1cf0afcf",
   "metadata": {},
   "outputs": [
    {
     "name": "stdout",
     "output_type": "stream",
     "text": [
      "10\n"
     ]
    }
   ],
   "source": [
    "print(k+k)"
   ]
  },
  {
   "cell_type": "code",
   "execution_count": 52,
   "id": "17308586",
   "metadata": {},
   "outputs": [
    {
     "name": "stdout",
     "output_type": "stream",
     "text": [
      "2 \n",
      "5 2\n",
      "1 2 3 4 5\n",
      "4 5 1 2 3 \n",
      "\n",
      "3 4\n",
      "2 5 9\n",
      "9 2 5 \n",
      "\n"
     ]
    }
   ],
   "source": [
    "T = int(input())\n",
    "\n",
    "for tekrar in range(T):\n",
    "    NK = input()\n",
    "    list = NK.split()\n",
    "    N,K = list[0] , list[1]\n",
    "\n",
    "    arr = input().split()\n",
    "\n",
    "    Dönüm = int(K) % len(arr)\n",
    "    ison = len(arr)\n",
    "\n",
    "    arr2 = arr[ison-Dönüm :] + arr[0:ison-Dönüm]\n",
    "    for x in arr2:\n",
    "        print(x, end = \" \")\n",
    "    print(\"\\n\")"
   ]
  },
  {
   "cell_type": "code",
   "execution_count": null,
   "id": "682015ab",
   "metadata": {},
   "outputs": [],
   "source": []
  }
 ],
 "metadata": {
  "kernelspec": {
   "display_name": "Python 3 (ipykernel)",
   "language": "python",
   "name": "python3"
  },
  "language_info": {
   "codemirror_mode": {
    "name": "ipython",
    "version": 3
   },
   "file_extension": ".py",
   "mimetype": "text/x-python",
   "name": "python",
   "nbconvert_exporter": "python",
   "pygments_lexer": "ipython3",
   "version": "3.9.7"
  }
 },
 "nbformat": 4,
 "nbformat_minor": 5
}
