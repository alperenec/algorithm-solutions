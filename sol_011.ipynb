{
 "cells": [
  {
   "cell_type": "code",
   "execution_count": 80,
   "id": "d54ad050-14a7-4286-94c4-34432e84be32",
   "metadata": {},
   "outputs": [],
   "source": [
    "text=\"Bugün Programlama II dersinden bütünleme sınavını oluyoruz. İnşallah istenenleri adım adım yapacağım ve bu sınavdan tam notla geçeceğim.\"  "
   ]
  },
  {
   "cell_type": "code",
   "execution_count": 81,
   "id": "3ac5578d-8e79-4305-b609-ecb7de8ae35e",
   "metadata": {},
   "outputs": [
    {
     "name": "stdout",
     "output_type": "stream",
     "text": [
      "Bugün Programlama II dersinden bütünleme sınavını oluyoruz İnşallah istenenleri adım adım yapacağım ve bu sınavdan tam notla geçeceğim\n"
     ]
    }
   ],
   "source": [
    "import re\n",
    "yeni_dizi = re.sub(r'[^\\w\\s]', '', text)\n",
    "print(yeni_dizi)"
   ]
  },
  {
   "cell_type": "code",
   "execution_count": 82,
   "id": "a0a531f6-a297-45cf-ac66-55aafc1a963f",
   "metadata": {},
   "outputs": [
    {
     "name": "stdout",
     "output_type": "stream",
     "text": [
      "['dersinden', 'bütünleme', 'sınavını', 'oluyoruz', 'istenenleri', 'adım', 'adım', 'yapacağım', 've', 'bu', 'sınavdan', 'tam', 'notla', 'geçeceğim']\n",
      "['Bugün', 'Programlama', 'II', 'İnşallah']\n"
     ]
    }
   ],
   "source": [
    "kelime1=[]\n",
    "kelime2=[]\n",
    "\n",
    "for i in bolunmus:\n",
    "    for ch in range(1):\n",
    "        if i[ch].islower():\n",
    "            kelime2.append(i)\n",
    "print(kelime2)\n",
    "for i in bolunmus:\n",
    "    for ch in range(1):\n",
    "        if i[ch].isupper():\n",
    "            kelime1.append(i)\n",
    "print(kelime1)\n"
   ]
  },
  {
   "cell_type": "code",
   "execution_count": 83,
   "id": "a902af6e-5c5e-4431-9fd2-f85bd73fe588",
   "metadata": {},
   "outputs": [
    {
     "name": "stdout",
     "output_type": "stream",
     "text": [
      "[956, 1247, 1465, 921, 1186, 611, 611, 1324, 219, 215, 1052, 322, 542, 1237]\n"
     ]
    }
   ],
   "source": [
    "sayi2=[]\n",
    "for i in (kelime2):\n",
    "    top=0\n",
    "    for j in i:\n",
    "        top+=ord(j)\n",
    "    sayi2.append(top)\n",
    "print(sayi2)"
   ]
  },
  {
   "cell_type": "code",
   "execution_count": 84,
   "id": "164faa96-b37b-44df-b142-821456bf00dd",
   "metadata": {},
   "outputs": [
    {
     "name": "stdout",
     "output_type": "stream",
     "text": [
      "[648, 1139, 146, 1279]\n"
     ]
    }
   ],
   "source": [
    "sayi1=[]\n",
    "for i in (kelime1):\n",
    "    top=0\n",
    "    for j in i:\n",
    "        top+=ord(j)\n",
    "    sayi1.append(top)\n",
    "print(sayi1)"
   ]
  },
  {
   "cell_type": "code",
   "execution_count": 85,
   "id": "ee386755-d752-439b-858a-bfcdfada7421",
   "metadata": {},
   "outputs": [
    {
     "name": "stdout",
     "output_type": "stream",
     "text": [
      "['846', '9311', '641', '9721']\n"
     ]
    }
   ],
   "source": [
    "ters1=[]\n",
    "for i in sayi1:\n",
    "    i=str(i)\n",
    "    sayiStr=\"\"\n",
    "    for j in i[::-1]:\n",
    "        sayiStr+=j\n",
    "    ters1.append(sayiStr)\n",
    "print(ters1)"
   ]
  },
  {
   "cell_type": "code",
   "execution_count": 86,
   "id": "6a418b83-a479-4c01-8be3-888db98c62c1",
   "metadata": {},
   "outputs": [
    {
     "name": "stdout",
     "output_type": "stream",
     "text": [
      "['659', '7421', '5641', '129', '6811', '116', '116', '4231', '912', '512', '2501', '223', '245', '7321']\n"
     ]
    }
   ],
   "source": [
    "ters2=[]\n",
    "for i in sayi2:\n",
    "    i=str(i)\n",
    "    sayiStr=\"\"\n",
    "    for j in i[::-1]:\n",
    "        sayiStr+=j\n",
    "    ters2.append(sayiStr)\n",
    "print(ters2)"
   ]
  },
  {
   "cell_type": "code",
   "execution_count": 87,
   "id": "0f51e8e4-6f3c-4202-b906-4a9fec6c513d",
   "metadata": {},
   "outputs": [],
   "source": [
    "intlist1=[int(x) for x in ters1]\n",
    "intlist2=[int(x) for x in ters2]"
   ]
  },
  {
   "cell_type": "code",
   "execution_count": 88,
   "id": "920e9598-173f-4002-838f-c8a81d570606",
   "metadata": {},
   "outputs": [
    {
     "data": {
      "text/plain": [
       "False"
      ]
     },
     "execution_count": 88,
     "metadata": {},
     "output_type": "execute_result"
    }
   ],
   "source": [
    "def asalsayi(n):\n",
    "    for i in range(2,n):\n",
    "        if (n%i) == 0:\n",
    "              return False\n",
    "        return True\n",
    "asalsayi(6)"
   ]
  },
  {
   "cell_type": "code",
   "execution_count": 89,
   "id": "25935902-4659-49d5-88df-15d7161124b0",
   "metadata": {},
   "outputs": [
    {
     "name": "stdout",
     "output_type": "stream",
     "text": [
      "[9311, 641, 9721]\n"
     ]
    }
   ],
   "source": [
    "asallar=[]\n",
    "for i in intlist1:\n",
    "    if asalsayi(i) is True:\n",
    "        asallar.append(i)\n",
    "print(asallar)"
   ]
  },
  {
   "cell_type": "code",
   "execution_count": 90,
   "id": "e98aafeb-c757-4936-81f8-eaf95ad1fa64",
   "metadata": {},
   "outputs": [
    {
     "name": "stdout",
     "output_type": "stream",
     "text": [
      "[659, 7421, 5641, 129, 6811, 4231, 2501, 223, 245, 7321]\n"
     ]
    }
   ],
   "source": [
    "asallar=[]\n",
    "for i in intlist2:\n",
    "    if asalsayi(i) is True:\n",
    "        asallar.append(i)\n",
    "print(asallar)"
   ]
  }
 ],
 "metadata": {
  "kernelspec": {
   "display_name": "Python 3 (ipykernel)",
   "language": "python",
   "name": "python3"
  },
  "language_info": {
   "codemirror_mode": {
    "name": "ipython",
    "version": 3
   },
   "file_extension": ".py",
   "mimetype": "text/x-python",
   "name": "python",
   "nbconvert_exporter": "python",
   "pygments_lexer": "ipython3",
   "version": "3.9.7"
  }
 },
 "nbformat": 4,
 "nbformat_minor": 5
}
