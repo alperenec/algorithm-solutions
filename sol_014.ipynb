{
 "cells": [
  {
   "cell_type": "markdown",
   "id": "81605acd",
   "metadata": {},
   "source": [
    "# bubble sort"
   ]
  },
  {
   "cell_type": "code",
   "execution_count": null,
   "id": "33f067d1",
   "metadata": {},
   "outputs": [],
   "source": [
    "A=[44,86,4,9,1,5,7,92]\n",
    "for j in range "
   ]
  },
  {
   "cell_type": "code",
   "execution_count": 4,
   "id": "458f8539",
   "metadata": {},
   "outputs": [
    {
     "name": "stdout",
     "output_type": "stream",
     "text": [
      "listenin eleman sayısı:5\n",
      "değer girin:8\n",
      "değer girin:7\n",
      "değer girin:6\n",
      "değer girin:55\n",
      "değer girin:4\n",
      "[8, 7, 6, 55, 4]\n"
     ]
    }
   ],
   "source": [
    "L=[]\n",
    "k=int(input(\"listenin eleman sayısı:\"))\n",
    "for i in range (k):\n",
    "    b=int(input(\"değer girin:\"))\n",
    "    L+=[b]\n",
    "print(L)"
   ]
  },
  {
   "cell_type": "code",
   "execution_count": 25,
   "id": "8094bff7",
   "metadata": {},
   "outputs": [
    {
     "name": "stdout",
     "output_type": "stream",
     "text": [
      "liste eleman sayısı:4\n",
      "değer gir:9\n",
      "değer gir:17\n",
      "değer gir:5\n",
      "değer gir:1\n",
      "[9, 17, 5, 1]\n"
     ]
    }
   ],
   "source": [
    "A=[]\n",
    "n=int(input(\"liste eleman sayısı:\"))\n",
    "for i in range (n):\n",
    "    k=int(input(\"değer gir:\"))\n",
    "    A+=[k]\n",
    "print(A)"
   ]
  },
  {
   "cell_type": "code",
   "execution_count": 18,
   "id": "de002521",
   "metadata": {},
   "outputs": [
    {
     "name": "stdout",
     "output_type": "stream",
     "text": [
      "eleman sayısı:4\n",
      "değer gir:6\n",
      "değer gir:4\n",
      "değer gir:2\n",
      "değer gir:8\n",
      "sıralı değilken [6, 4, 2, 8]\n",
      "sıralıyken [2, 4, 6, 8]\n"
     ]
    }
   ],
   "source": [
    "D=[]\n",
    "n=int(input(\"eleman sayısı:\"))\n",
    "for i in range(n):\n",
    "    v=int(input(\"değer gir:\"))\n",
    "    D+=[v]\n",
    "print(\"sıralı değilken\", D)\n",
    "\n",
    "for j in range (len(D)-1):\n",
    "    for i in range (len(D)-1):\n",
    "        if D[i]>D[i+1]:\n",
    "            tmp=D[i+1]\n",
    "            D[i+1]=D[i]\n",
    "            D[i]=tmp\n",
    "print(\"sıralıyken\", D)"
   ]
  },
  {
   "cell_type": "code",
   "execution_count": 23,
   "id": "9f3c0ca9",
   "metadata": {},
   "outputs": [
    {
     "name": "stdout",
     "output_type": "stream",
     "text": [
      "eleman sayısı:8\n",
      "değer gir:4\n",
      "değer gir:5\n",
      "değer gir:1\n",
      "değer gir:7\n",
      "değer gir:3\n",
      "değer gir:9\n",
      "değer gir:2\n",
      "değer gir:7\n",
      "sıralı değilken [4, 5, 1, 7, 3, 9, 2, 7]\n",
      "sıralıyken [1, 2, 3, 4, 5, 7, 7, 9]\n",
      "49\n"
     ]
    }
   ],
   "source": [
    "D=[]\n",
    "n=int(input(\"eleman sayısı:\"))\n",
    "for i in range(n):\n",
    "    v=int(input(\"değer gir:\"))\n",
    "    D+=[v]\n",
    "print(\"sıralı değilken\", D)\n",
    "\n",
    "kod_kalite_olcme=0\n",
    "for j in range (len(D)-1):\n",
    "    for i in range (len(D)-1):\n",
    "        kod_kalite_olcme+=1\n",
    "\n",
    "        if D[i]>D[i+1]:\n",
    "            D[i],D[i+1] = D[i+1],D[i]         #bir yol\n",
    "print(\"sıralıyken\", D)\n",
    "print(kod_kalite_olcme)"
   ]
  },
  {
   "cell_type": "code",
   "execution_count": 27,
   "id": "49155684",
   "metadata": {},
   "outputs": [
    {
     "name": "stdout",
     "output_type": "stream",
     "text": [
      "eleman sayısı:5\n",
      "değer gir:1\n",
      "değer gir:7\n",
      "değer gir:2\n",
      "değer gir:5\n",
      "değer gir:-9\n",
      "sıralı değilken [1, 7, 2, 5, -9]\n",
      "sıralıyken [-9, 1, 2, 5, 7]\n"
     ]
    }
   ],
   "source": [
    "D=[]\n",
    "n=int(input(\"eleman sayısı:\"))\n",
    "for i in range(n):\n",
    "    v=int(input(\"değer gir:\"))\n",
    "    D+=[v]\n",
    "print(\"sıralı değilken\", D)\n",
    "\n",
    "for j in range (len(D)-1):\n",
    "    for i in range (len(D)-j-1):       #-j sayesinde kod kalitesi arttı\n",
    "\n",
    "        if D[i]>D[i+1]:\n",
    "            D[i],D[i+1] = D[i+1],D[i]         #bir yol\n",
    "print(\"sıralıyken\", D)\n"
   ]
  },
  {
   "cell_type": "code",
   "execution_count": 1,
   "id": "1fb7b7b7",
   "metadata": {},
   "outputs": [
    {
     "name": "stdout",
     "output_type": "stream",
     "text": [
      "[0, 1, 5, 5, 6, 7, 11, 16, 41, 43, 43, 48, 94]\n"
     ]
    }
   ],
   "source": [
    "a=[6,7,11,0,5,48,43,1,5,94,43,41,16]\n",
    "b=[]\n",
    "for i in range(len(a)):\n",
    "    minimum=a[0]\n",
    "    for j in range(len(a)):\n",
    "        if a[j]<minimum:\n",
    "            minimum=a[j]\n",
    "        else:\n",
    "            continue\n",
    "    b.append(minimum)\n",
    "    a.remove(minimum)\n",
    "print(b)"
   ]
  },
  {
   "cell_type": "markdown",
   "id": "de7a8d8b",
   "metadata": {},
   "source": [
    "# insertion sort\n"
   ]
  },
  {
   "cell_type": "code",
   "execution_count": 3,
   "id": "6b3b6246",
   "metadata": {},
   "outputs": [
    {
     "name": "stdout",
     "output_type": "stream",
     "text": [
      "[1, 2, 2, 2, 3, 4, 4, 5, 41, 53, 66, 77, 91, 99]\n"
     ]
    }
   ],
   "source": [
    "L=[2,3,1,5,66,77,2,4,91,41,53,99,2,4]\n",
    "\n",
    "for i in range(len(L)):\n",
    "    j=i\n",
    "    tmp=L[j]\n",
    "    \n",
    "    while tmp<L[j-1] and j>0:\n",
    "        L[j]=L[j-1]\n",
    "        j-=1\n",
    "        \n",
    "    L[j]=tmp\n",
    "print(L)"
   ]
  },
  {
   "cell_type": "code",
   "execution_count": 4,
   "id": "913a78ae",
   "metadata": {},
   "outputs": [
    {
     "name": "stdout",
     "output_type": "stream",
     "text": [
      "[1, 2, 2, 2, 3, 4, 4, 5, 41, 53, 66, 77, 91, 99]\n"
     ]
    }
   ],
   "source": [
    "L=[2,3,1,5,66,77,2,4,91,41,53,99,2,4]\n",
    "\n",
    "for i in range(len(L)):\n",
    "    tmp=L[i]\n",
    "    \n",
    "    while tmp<L[i-1] and i>0:\n",
    "        L[i]=L[i-1]\n",
    "        i-=1\n",
    "        \n",
    "    L[i]=tmp\n",
    "print(L)"
   ]
  },
  {
   "cell_type": "markdown",
   "id": "94a039ee",
   "metadata": {},
   "source": [
    "# ants on a circle"
   ]
  },
  {
   "cell_type": "code",
   "execution_count": 1,
   "id": "d92fade8",
   "metadata": {},
   "outputs": [
    {
     "name": "stdout",
     "output_type": "stream",
     "text": [
      "5 2 1\n",
      "2 1\n",
      "3 -1\n",
      "2 3\n"
     ]
    }
   ],
   "source": [
    "N, M, T = map(int, input().split())\n",
    "\n",
    "x = []\n",
    "\n",
    "y = []\n",
    "\n",
    "for _ in range(M):\n",
    "\n",
    "   a, b = map(int, input().split())\n",
    "\n",
    "   x.append(a)\n",
    "\n",
    "   y.append(b)\n",
    "\n",
    "for i in range(len(x)):\n",
    "\n",
    "   \n",
    "\n",
    "   for j in range(T):\n",
    "\n",
    "       k = x[i] + y[i]\n",
    "\n",
    "       if k < 1:\n",
    "\n",
    "           x[i] = N\n",
    "\n",
    "       elif k > N:\n",
    "\n",
    "           x[i] = 1\n",
    "\n",
    "       else:\n",
    "\n",
    "           x[i] = k\n",
    "\n",
    "\n",
    "x = sorted(x)\n",
    "\n",
    "print(*x)"
   ]
  },
  {
   "cell_type": "code",
   "execution_count": null,
   "id": "30bee3eb",
   "metadata": {},
   "outputs": [],
   "source": [
    "\"\"\"\n",
    "N= yer sayısı   T=test sayısı   M=kaydırma sayısı\n",
    "a, b = x, y = konum, yön\n",
    "\n",
    "\"\"\"\n",
    "N, T, M = map(int, input().split())\n",
    "x=[]\n",
    "y=[]\n",
    "\n",
    "for l in range(T):\n",
    "    a, b = map(int, input().split())\n",
    "    x.append(a)\n",
    "    y.append(b)\n",
    "    \n",
    "for i in range(len(x)):\n",
    "    for j in range(M):\n",
    "        k = x[i] + y[i]\n",
    "        if k<1:\n",
    "            x[i] = N\n",
    "        elif k > N:\n",
    "            x[i] = 1\n",
    "        else:\n",
    "            x[i] = k\n",
    "        \n",
    "x=sorted(x)\n",
    "print(*x)"
   ]
  },
  {
   "cell_type": "markdown",
   "id": "61114d4e",
   "metadata": {},
   "source": [
    "# save patients"
   ]
  },
  {
   "cell_type": "code",
   "execution_count": 3,
   "id": "db3785ec",
   "metadata": {},
   "outputs": [
    {
     "name": "stdout",
     "output_type": "stream",
     "text": [
      "3\n",
      "888 444 777\n",
      "666 666 666\n",
      "No\n"
     ]
    }
   ],
   "source": [
    "n=int(input())\n",
    "v=list(map(int,input().split()))\n",
    "p=list(map(int,input().split()))\n",
    "c=0\n",
    "\n",
    "for i in range(n):\n",
    "   if v[i]>p[i]:\n",
    "       c+=1\n",
    "   else:\n",
    "      continue\n",
    "\n",
    "if c==n:\n",
    "   print('Yes')\n",
    "else:\n",
    "  print('No')"
   ]
  },
  {
   "cell_type": "code",
   "execution_count": null,
   "id": "2eeffe0c",
   "metadata": {},
   "outputs": [],
   "source": []
  }
 ],
 "metadata": {
  "kernelspec": {
   "display_name": "Python 3 (ipykernel)",
   "language": "python",
   "name": "python3"
  },
  "language_info": {
   "codemirror_mode": {
    "name": "ipython",
    "version": 3
   },
   "file_extension": ".py",
   "mimetype": "text/x-python",
   "name": "python",
   "nbconvert_exporter": "python",
   "pygments_lexer": "ipython3",
   "version": "3.9.7"
  }
 },
 "nbformat": 4,
 "nbformat_minor": 5
}
