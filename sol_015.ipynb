{
 "cells": [
  {
   "cell_type": "markdown",
   "id": "2e22626e",
   "metadata": {},
   "source": [
    "# BUBBLE SORT "
   ]
  },
  {
   "cell_type": "code",
   "execution_count": 3,
   "id": "26cfb1bd",
   "metadata": {},
   "outputs": [],
   "source": [
    "##\n",
    "def sorting(liste):\n",
    "    for i in range(len(liste)):\n",
    "        for j in range(len(liste)-1):\n",
    "            if liste[j] > liste[j+1]:\n",
    "                tmp = liste[j+1]\n",
    "                liste[j+1] = liste[j]\n",
    "                liste[j] = tmp\n",
    "    return liste"
   ]
  },
  {
   "cell_type": "code",
   "execution_count": 1,
   "id": "1fe33380",
   "metadata": {},
   "outputs": [
    {
     "ename": "SyntaxError",
     "evalue": "invalid syntax (Temp/ipykernel_11844/558955673.py, line 3)",
     "output_type": "error",
     "traceback": [
      "\u001b[1;36m  File \u001b[1;32m\"C:\\Users\\alper\\AppData\\Local\\Temp/ipykernel_11844/558955673.py\"\u001b[1;36m, line \u001b[1;32m3\u001b[0m\n\u001b[1;33m    Eren Can Çelik09:44\u001b[0m\n\u001b[1;37m         ^\u001b[0m\n\u001b[1;31mSyntaxError\u001b[0m\u001b[1;31m:\u001b[0m invalid syntax\n"
     ]
    }
   ],
   "source": [
    "##\n",
    "liste = [5,2,7,1]\n",
    "print(sort(liste))\n",
    "Eren Can Çelik09:44\n",
    "L=[7,4,5,2]\n",
    "for i in range(len(L)-1):\n",
    "    for j in range(len(L)-1):\n",
    "        if L[i]<L[j]:\n",
    "            key=L[j]\n",
    "            L[j]=L[i]\n",
    "            L[i]=key\n",
    "print(L)"
   ]
  },
  {
   "cell_type": "code",
   "execution_count": 5,
   "id": "b101bea6",
   "metadata": {},
   "outputs": [
    {
     "name": "stdout",
     "output_type": "stream",
     "text": [
      "[1, 4, 6, 7, 8, 11]\n"
     ]
    }
   ],
   "source": [
    "##\n",
    "arr = [11,6,4,8,1,7]\n",
    "\n",
    "for tekrar in range(len(arr)):\n",
    "    for i in range(len(arr)-1):\n",
    "        if arr[i] > arr[i+1]:\n",
    "            arr[i], arr[i+1] = arr[i+1], arr[i]\n",
    "print(arr)\n",
    "\n",
    "\n"
   ]
  },
  {
   "cell_type": "markdown",
   "id": "16a9d774",
   "metadata": {},
   "source": [
    "# insertion sort"
   ]
  },
  {
   "cell_type": "code",
   "execution_count": 9,
   "id": "08474a77",
   "metadata": {},
   "outputs": [
    {
     "name": "stdout",
     "output_type": "stream",
     "text": [
      "[2, 4, 5, 7]\n"
     ]
    }
   ],
   "source": [
    "##\n",
    "l = [7,4,5,2]\n",
    "\n",
    "for i in range(1,len(l)):\n",
    "    for j in range(i):\n",
    "        if l[i]<l[j]:\n",
    "            a = l[i]\n",
    "            l[i] = l[j]\n",
    "            l[j] = a\n",
    "print(l)"
   ]
  },
  {
   "cell_type": "code",
   "execution_count": 13,
   "id": "1a696e05",
   "metadata": {},
   "outputs": [],
   "source": [
    "##\n",
    "def sirala(dizi):\n",
    "    for i in range(1, len(dizi)):\n",
    "        deger = dizi[i]\n",
    "        j = i - 1\n",
    "        while j >= 0 and deger < dizi[j]:\n",
    "            dizi[j + 1] = dizi[j]\n",
    "            j -= 1\n",
    "        dizi[j + 1] = deger\n",
    "    return dizi"
   ]
  },
  {
   "cell_type": "code",
   "execution_count": null,
   "id": "290e1afe",
   "metadata": {},
   "outputs": [],
   "source": []
  }
 ],
 "metadata": {
  "kernelspec": {
   "display_name": "Python 3 (ipykernel)",
   "language": "python",
   "name": "python3"
  },
  "language_info": {
   "codemirror_mode": {
    "name": "ipython",
    "version": 3
   },
   "file_extension": ".py",
   "mimetype": "text/x-python",
   "name": "python",
   "nbconvert_exporter": "python",
   "pygments_lexer": "ipython3",
   "version": "3.9.7"
  }
 },
 "nbformat": 4,
 "nbformat_minor": 5
}
