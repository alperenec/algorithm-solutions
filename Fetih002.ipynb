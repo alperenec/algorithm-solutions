{
 "cells": [
  {
   "cell_type": "markdown",
   "id": "0569b8d2-bc43-49bc-99b1-ba36edf93372",
   "metadata": {},
   "source": [
    "Count the triplets\n",
    "https://practice.geeksforgeeks.org/problems/count-the-triplets4615/1"
   ]
  },
  {
   "cell_type": "code",
   "execution_count": 54,
   "id": "80b50c60-7451-466a-a6a3-62a81aa8a85a",
   "metadata": {},
   "outputs": [
    {
     "name": "stdin",
     "output_type": "stream",
     "text": [
      "dizi boyutu gir: 4\n",
      "elemanları gir: 0 1 2 3\n"
     ]
    },
    {
     "name": "stdout",
     "output_type": "stream",
     "text": [
      "4 [0, 1, 2, 3]\n"
     ]
    }
   ],
   "source": [
    "n=int(input(\"dizi boyutu gir:\"))\n",
    "arr=list(map(int, input(\"elemanları gir:\").split()))\n",
    "print(n, arr)"
   ]
  },
  {
   "cell_type": "code",
   "execution_count": 55,
   "id": "17a02615-fca0-4d0a-9a26-fd214349c4e3",
   "metadata": {},
   "outputs": [
    {
     "name": "stdout",
     "output_type": "stream",
     "text": [
      "[1, 2, 3, 3, 4, 5]\n",
      "[1, 2, 3, 3, 4, 5]\n"
     ]
    }
   ],
   "source": [
    "all_sum=[]\n",
    "for ix in range(len(arr)):\n",
    "    for iy in range(ix+1,len(arr)):\n",
    "        sum=arr[ix]+arr[iy]\n",
    "        all_sum.append(sum)\n",
    "print(all_sum)\n",
    "sorted_all_sum = sorted(all_sum)\n",
    "print(sorted_all_sum)"
   ]
  },
  {
   "cell_type": "code",
   "execution_count": 56,
   "id": "48fa43d7-4778-486e-8fb8-5af84d1bcd6a",
   "metadata": {},
   "outputs": [
    {
     "name": "stdout",
     "output_type": "stream",
     "text": [
      "[1, 2, 3, 3]\n",
      "[1, 2, 3, 3]\n"
     ]
    }
   ],
   "source": [
    "triplets=[]\n",
    "for ix in range(len(arr)):\n",
    "    for iy in range(len(all_sum)):\n",
    "        if arr[ix]==all_sum[iy]:\n",
    "            triplets.append(arr[ix])\n",
    "            if ix==len(arr)-1 and iy==len(all_sum)-1:\n",
    "                break\n",
    "print(triplets)\n",
    "sorted_triplets = sorted(triplets)\n",
    "print(sorted_triplets)"
   ]
  },
  {
   "cell_type": "code",
   "execution_count": 57,
   "id": "2156ecce-fbdb-4bec-a49d-4fddf21d3d8a",
   "metadata": {},
   "outputs": [
    {
     "name": "stdout",
     "output_type": "stream",
     "text": [
      "4 tane üçleme var\n"
     ]
    }
   ],
   "source": [
    "print(len(triplets),\"tane üçleme var\")"
   ]
  },
  {
   "cell_type": "code",
   "execution_count": 58,
   "id": "c20234bc-ba69-4545-97bd-9f554c7b99b7",
   "metadata": {},
   "outputs": [
    {
     "name": "stdout",
     "output_type": "stream",
     "text": [
      "0 ve 1 sayıları toplamı 1 üçlemesi var\n",
      "0 ve 2 sayıları toplamı 2 üçlemesi var\n",
      "0 ve 3 sayıları toplamı 3 üçlemesi var\n",
      "1 ve 2 sayıları toplamı 3 üçlemesi var\n"
     ]
    }
   ],
   "source": [
    "c=0\n",
    "for ix in range(len(arr)):\n",
    "    for iy in range(ix+1,len(arr)):\n",
    "        sum=arr[ix]+arr[iy]\n",
    "        if c!=len(sorted_triplets):\n",
    "            if sum in sorted_triplets:\n",
    "                print(arr[ix],\"ve\",arr[iy],\"sayıları toplamı\",arr[ix]+arr[iy],\"üçlemesi var\")\n",
    "                c+=1\n",
    "        elif c==len(sorted_triplets):\n",
    "                break"
   ]
  },
  {
   "cell_type": "code",
   "execution_count": null,
   "id": "ca4f8585-8121-4d9d-8286-8208da6dbd77",
   "metadata": {},
   "outputs": [],
   "source": []
  }
 ],
 "metadata": {
  "kernelspec": {
   "display_name": "Python 3 (ipykernel)",
   "language": "python",
   "name": "python3"
  },
  "language_info": {
   "codemirror_mode": {
    "name": "ipython",
    "version": 3
   },
   "file_extension": ".py",
   "mimetype": "text/x-python",
   "name": "python",
   "nbconvert_exporter": "python",
   "pygments_lexer": "ipython3",
   "version": "3.9.7"
  }
 },
 "nbformat": 4,
 "nbformat_minor": 5
}
