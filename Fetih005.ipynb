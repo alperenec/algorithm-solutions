{
 "cells": [
  {
   "cell_type": "markdown",
   "id": "894d056e-81c0-4d22-835e-cbbf4417124e",
   "metadata": {},
   "source": [
    "Reverse words in a given string - https://practice.geeksforgeeks.org/problems/permutations-of-a-given-string2041/1"
   ]
  },
  {
   "cell_type": "code",
   "execution_count": 16,
   "id": "1fba34ff-4127-4a02-a25d-d88d5d791e98",
   "metadata": {},
   "outputs": [
    {
     "name": "stdin",
     "output_type": "stream",
     "text": [
      " pqr.mno\n"
     ]
    },
    {
     "name": "stdout",
     "output_type": "stream",
     "text": [
      "['pqr', 'mno']\n"
     ]
    }
   ],
   "source": [
    "text=input().split(\".\")\n",
    "print(text)"
   ]
  },
  {
   "cell_type": "code",
   "execution_count": 17,
   "id": "4ca8eeb8-6a6f-4016-8cf2-656813587373",
   "metadata": {},
   "outputs": [
    {
     "name": "stdout",
     "output_type": "stream",
     "text": [
      "['mno', 'pqr']\n"
     ]
    }
   ],
   "source": [
    "reverse_text=[]\n",
    "for i in range(len(text))[::-1]:\n",
    "    reverse_text.append(text[i])\n",
    "print(reverse_text)"
   ]
  },
  {
   "cell_type": "code",
   "execution_count": 18,
   "id": "e5ea7e81-c1e1-4dd2-a99c-514b918b1117",
   "metadata": {},
   "outputs": [
    {
     "name": "stdout",
     "output_type": "stream",
     "text": [
      "mno.pqr\n"
     ]
    }
   ],
   "source": [
    "print('.'.join(str(x) for x in reverse_text))"
   ]
  },
  {
   "cell_type": "markdown",
   "id": "533fc076-ec4a-4eeb-b0c4-53340d34fe1a",
   "metadata": {},
   "source": [
    "Longest Palindrome in a String - https://practice.geeksforgeeks.org/problems/permutations-of-a-given-string2041/1\n",
    "\n",
    "Input: ABC\n",
    "\n",
    "Output:\n",
    "ABC ACB BAC BCA CAB CBA\n",
    "\n",
    "Explanation:\n",
    "Given string ABC has permutations in 6 \n",
    "forms as ABC, ACB, BAC, BCA, CAB and CBA ."
   ]
  },
  {
   "cell_type": "code",
   "execution_count": null,
   "id": "013c77f0-5945-4298-b424-a9a9900b18c1",
   "metadata": {},
   "outputs": [],
   "source": [
    "#not my solution\n",
    "from itertools import permutations as pr\n",
    "\n",
    "class Solution:\n",
    "    def find_permutation(self, S):\n",
    "        new=[]\n",
    "        n = len(S)\n",
    "        p = pr(S,n)\n",
    "        \n",
    "        for i in list(p):\n",
    "            k=list(i)\n",
    "            ans =\"\"\n",
    "            \n",
    "            for j in range(len(k)):\n",
    "                ans= ans+k[j]\n",
    "            new.append(ans) \n",
    "        new.sort()\n",
    "        new1=[]\n",
    "        for i in new:\n",
    "            if i not in new1:\n",
    "                new1.append(i)\n",
    "        return new1"
   ]
  }
 ],
 "metadata": {
  "kernelspec": {
   "display_name": "Python 3 (ipykernel)",
   "language": "python",
   "name": "python3"
  },
  "language_info": {
   "codemirror_mode": {
    "name": "ipython",
    "version": 3
   },
   "file_extension": ".py",
   "mimetype": "text/x-python",
   "name": "python",
   "nbconvert_exporter": "python",
   "pygments_lexer": "ipython3",
   "version": "3.9.7"
  }
 },
 "nbformat": 4,
 "nbformat_minor": 5
}
