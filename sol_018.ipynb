{
 "cells": [
  {
   "cell_type": "code",
   "execution_count": 1,
   "id": "e248a02c-3840-4263-9cd2-5c5871c9feef",
   "metadata": {},
   "outputs": [],
   "source": [
    "def binary_search(arr,l,r,x):\n",
    "    if l<=r:\n",
    "        mid=(l+r)//2\n",
    "        if arr[mid]==x:\n",
    "            return mid\n",
    "        elif arr[mid]<x:\n",
    "            return binary_search(arr,mid+1,r,x)            #\n",
    "        elif arr[mid]>x:\n",
    "            return binary_search(arr,l,mid-1,x)\n",
    "    else:\n",
    "        return -1"
   ]
  },
  {
   "cell_type": "code",
   "execution_count": 25,
   "id": "4ef5f8b7-c19b-4aad-96a1-818f1e1c33bd",
   "metadata": {},
   "outputs": [
    {
     "name": "stdin",
     "output_type": "stream",
     "text": [
      "  11 55 44 22 66 45 885 52 52 45 25 21 21 52 85 45\n",
      "indexini bulmak istediğin değeri gir 21\n"
     ]
    },
    {
     "name": "stdout",
     "output_type": "stream",
     "text": [
      "istediğiniz değer dizi içinde bulunamadı\n"
     ]
    }
   ],
   "source": [
    "arr=list(map(int, input().split()))\n",
    "x=int(input(\"indexini bulmak istediğin değeri gir\"))\n",
    "result=binary_search(arr, 0, len(arr)-1, x)\n",
    "if result != -1:\n",
    "      print(\"istediğiniz değer \",result,\". indexte\")\n",
    "else:\n",
    "      print(\"istediğiniz değer dizi içinde bulunamadı\")"
   ]
  },
  {
   "cell_type": "markdown",
   "id": "8ab79318-2384-4757-a6e8-80a26bb34dc2",
   "metadata": {},
   "source": [
    "##################unlucky13#############################################################"
   ]
  },
  {
   "cell_type": "code",
   "execution_count": 10,
   "id": "3e6847da-7611-4735-9df3-54b333895177",
   "metadata": {},
   "outputs": [
    {
     "name": "stdin",
     "output_type": "stream",
     "text": [
      "test sayısı gir: 1\n",
      "basamak sayısı gir: 5\n"
     ]
    },
    {
     "name": "stdout",
     "output_type": "stream",
     "text": [
      "[1, 2]\n"
     ]
    },
    {
     "data": {
      "text/plain": [
       "'\\ntop=0\\nwhile n>=2:       #tek sayıda 13 içerenlerde toplama, çift sayılarda içerenlerde çıkarma yaptık\\n    top+=(n-1)*(10**(n-2))         #1 13\\n    top-=                     #2 13\\n'"
      ]
     },
     "execution_count": 10,
     "metadata": {},
     "output_type": "execute_result"
    }
   ],
   "source": [
    "t=int(input(\"test sayısı gir:\"))\n",
    "n=int(input(\"basamak sayısı gir:\"))\n",
    "tane=n//2\n",
    "\n",
    "top=0\n",
    "while tane>=1:          #tek sayıda 13 içerenlerde toplama, çift sayılarda içerenlerde çıkarma yaptık\n",
    "    for i in range(1,tane+1):\n",
    "        if tane%2==1:       #tek\n",
    "        top+=(n-1)*(10**(n-2))         \n",
    "        top-=\n",
    "        elif tane%2==0:     #çift\n",
    "        i+=1"
   ]
  },
  {
   "cell_type": "code",
   "execution_count": 15,
   "id": "d030a01f-1087-4727-a011-d489d2e50ea6",
   "metadata": {},
   "outputs": [
    {
     "name": "stdout",
     "output_type": "stream",
     "text": [
      "False\n"
     ]
    }
   ],
   "source": [
    "tane=5\n",
    "while tane>=1:       #tek sayıda 13 içerenlerde toplama, çift sayılarda içerenlerde çıkarma yaptık\n",
    "    if tane%2==0:\n",
    "        print(\"True\")\n",
    "    else:\n",
    "        print(\"False\")\n",
    "    break"
   ]
  },
  {
   "cell_type": "code",
   "execution_count": 1,
   "id": "27789657-0c6d-4efd-b935-627bae27cbe1",
   "metadata": {},
   "outputs": [],
   "source": [
    "##################unlucky13-video#############################################################"
   ]
  },
  {
   "cell_type": "code",
   "execution_count": 12,
   "id": "78254d7d-77c2-40db-a7be-5efc07e5192c",
   "metadata": {},
   "outputs": [
    {
     "name": "stdin",
     "output_type": "stream",
     "text": [
      " 2\n",
      " 5 2\n",
      " 10101\n"
     ]
    },
    {
     "name": "stdout",
     "output_type": "stream",
     "text": [
      "9\n",
      "9\n"
     ]
    }
   ],
   "source": [
    "T=int(input())\n",
    "nk = input().split()\n",
    "n= nk[0]\n",
    "k= int(nk[1])\n",
    "bn = input()\n",
    "\n",
    "for j in range(T):\n",
    "    kontrol = bn\n",
    "    arr=[]\n",
    "    for ch in bn:\n",
    "        x = bn[1:] + bn[0]\n",
    "        arr += [x]\n",
    "        bn = x\n",
    "        if kontrol == x:\n",
    "            break\n",
    "\n",
    "\n",
    "    for i in range(len(arr)):\n",
    "        arr[i] = int(arr[i])\n",
    "\n",
    "    İlk = arr.index(max(arr)) + 1\n",
    "    print(İlk + len(arr) * (k-1))"
   ]
  },
  {
   "cell_type": "code",
   "execution_count": null,
   "id": "df8b6e31-9f19-46ab-9720-d3cc9a36155a",
   "metadata": {},
   "outputs": [],
   "source": []
  }
 ],
 "metadata": {
  "kernelspec": {
   "display_name": "Python 3 (ipykernel)",
   "language": "python",
   "name": "python3"
  },
  "language_info": {
   "codemirror_mode": {
    "name": "ipython",
    "version": 3
   },
   "file_extension": ".py",
   "mimetype": "text/x-python",
   "name": "python",
   "nbconvert_exporter": "python",
   "pygments_lexer": "ipython3",
   "version": "3.9.7"
  }
 },
 "nbformat": 4,
 "nbformat_minor": 5
}
