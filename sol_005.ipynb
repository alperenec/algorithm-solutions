{
 "cells": [
  {
   "cell_type": "code",
   "execution_count": 94,
   "id": "7dc4c6bd-37ff-4757-832e-3b95ba4a93a0",
   "metadata": {},
   "outputs": [
    {
     "name": "stdin",
     "output_type": "stream",
     "text": [
      "eleman sayısı gir: 5\n",
      "sıçrama sayısı gir: 3\n",
      "random girsin istiyosan 1 yaz, kendin gireceksen 0 yaz: 0\n",
      " 52 65 42 78 51\n"
     ]
    },
    {
     "name": "stdout",
     "output_type": "stream",
     "text": [
      "[52, 65, 42, 78, 51]\n"
     ]
    }
   ],
   "source": [
    "import random\n",
    "n=int(input(\"eleman sayısı gir:\"))\n",
    "k=int(input(\"sıçrama sayısı gir:\"))\n",
    "rm=int(input(\"random girsin istiyosan 1 yaz, kendin gireceksen 0 yaz:\"))\n",
    "if rm ==1:\n",
    "    liste=[]\n",
    "    liste+=[random.randint(10,99) for i in range(n)]\n",
    "elif rm==0:\n",
    "    liste=list(map(int,input().split()))\n",
    "print(liste)"
   ]
  },
  {
   "cell_type": "code",
   "execution_count": 96,
   "id": "bb7a810d-64e7-439a-8906-03d15c2e5e06",
   "metadata": {
    "tags": []
   },
   "outputs": [
    {
     "name": "stdout",
     "output_type": "stream",
     "text": [
      "[52, 65, 42, 78, 51]\n",
      "[52, 65, 42, 51]\n",
      "[52, 65, 51]\n",
      "[52, 65]\n",
      "[52]\n"
     ]
    }
   ],
   "source": [
    "print(liste)\n",
    "sicra=k\n",
    "while n>1:\n",
    "    sicra=(sicra%n)\n",
    "    del liste[sicra]\n",
    "    print(liste)\n",
    "    sicra+=k\n",
    "    n-=1"
   ]
  },
  {
   "cell_type": "code",
   "execution_count": 84,
   "id": "30e98944-698e-4e7a-a76f-33ba9506a571",
   "metadata": {},
   "outputs": [],
   "source": [
    "def ebob(a,b):\n",
    "    liste=[]\n",
    "    if a<=b:\n",
    "        min=a\n",
    "        max=b\n",
    "    else:\n",
    "        min=b\n",
    "        max=a\n",
    "    for i in range(1,min+1):\n",
    "        if min%i==0:\n",
    "            liste+=[i]\n",
    "    for j in liste[::-1]:\n",
    "        if max%j==0:\n",
    "            return j"
   ]
  },
  {
   "cell_type": "code",
   "execution_count": 194,
   "id": "96e56163-9a6c-49d1-9f8b-02b5f368951c",
   "metadata": {},
   "outputs": [
    {
     "name": "stdin",
     "output_type": "stream",
     "text": [
      "eleman sayısı gir: 5\n",
      "sıçrama sayısı gir: 3\n",
      "random girsin istiyosan 1 yaz, kendin gireceksen 0 yaz: 1\n"
     ]
    },
    {
     "name": "stdout",
     "output_type": "stream",
     "text": [
      "[86, 43, 22, 36, 99]\n"
     ]
    }
   ],
   "source": [
    "import random\n",
    "n=int(input(\"eleman sayısı gir:\"))\n",
    "k=int(input(\"sıçrama sayısı gir:\"))\n",
    "rm=int(input(\"random girsin istiyosan 1 yaz, kendin gireceksen 0 yaz:\"))\n",
    "if rm ==1:\n",
    "    liste=[]\n",
    "    liste+=[random.randint(10,99) for i in range(n)]\n",
    "elif rm==0:\n",
    "    liste=list(map(int,input().split()))\n",
    "print(liste)"
   ]
  },
  {
   "cell_type": "code",
   "execution_count": 195,
   "id": "a37e0dd1-bb72-47f2-a33c-48b678dc0177",
   "metadata": {},
   "outputs": [
    {
     "name": "stdout",
     "output_type": "stream",
     "text": [
      "[86, 43, 22, 36, 99]\n",
      "[86, 43, 22, 36, 99]\n",
      "[86, 43, 22, 36, 99]\n",
      "[86, 43, 22, 36, 99]\n",
      "[86, 43, 22, 36, 99]\n",
      "[86, 43, 22, 99]\n",
      "[86, 43, 22, 99]\n",
      "[86, 43, 22, 99]\n",
      "[86, 43, 22, 99]\n",
      "[86, 43, 22, 99]\n",
      "[86, 43, 99]\n",
      "[86, 43, 99]\n",
      "[86, 43, 99]\n",
      "[86, 43, 99]\n",
      "[86, 43, 99]\n",
      "[86, 43]\n",
      "[86, 43]\n",
      "[86, 43]\n",
      "[86, 43]\n",
      "[86, 43]\n",
      "[86]\n"
     ]
    }
   ],
   "source": [
    "print(liste)\n",
    "start=0\n",
    "count=0\n",
    "stop=k\n",
    "while n>1:\n",
    "    if ebob(liste[start],liste[stop]) == 1 or count>3:\n",
    "        del liste[stop]\n",
    "        n-=1\n",
    "        start=stop\n",
    "        start=(start%n)\n",
    "        stop=start+k\n",
    "        stop=(stop%n)\n",
    "        count=0\n",
    "    else:\n",
    "        count+=1\n",
    "    print(liste)"
   ]
  },
  {
   "cell_type": "code",
   "execution_count": null,
   "id": "8c362a5a-4fa4-4e0f-95d6-947f78732c30",
   "metadata": {},
   "outputs": [],
   "source": []
  }
 ],
 "metadata": {
  "kernelspec": {
   "display_name": "Python 3 (ipykernel)",
   "language": "python",
   "name": "python3"
  },
  "language_info": {
   "codemirror_mode": {
    "name": "ipython",
    "version": 3
   },
   "file_extension": ".py",
   "mimetype": "text/x-python",
   "name": "python",
   "nbconvert_exporter": "python",
   "pygments_lexer": "ipython3",
   "version": "3.9.7"
  }
 },
 "nbformat": 4,
 "nbformat_minor": 5
}
