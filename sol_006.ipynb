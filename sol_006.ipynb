{
 "cells": [
  {
   "cell_type": "markdown",
   "id": "668bb238-8fb4-4525-a4de-0c6a2f1538bb",
   "metadata": {},
   "source": [
    "Stacks-  Last In First Out (LIFO) "
   ]
  },
  {
   "cell_type": "code",
   "execution_count": 6,
   "id": "7d8fa30e-08e8-4759-b0b0-c454e4a23786",
   "metadata": {},
   "outputs": [
    {
     "name": "stdout",
     "output_type": "stream",
     "text": [
      "0\n",
      "[5]\n",
      "1\n",
      "[5, 10]\n",
      "2\n",
      "[5, 10, 24]\n",
      "3\n",
      "[5, 10, 24, 12]\n",
      "12\n",
      "Stack boş!\n",
      "liste =  []\n"
     ]
    }
   ],
   "source": [
    "stack = []\n",
    "\n",
    "def topElement():\n",
    "    print(stack[len(stack)-1])\n",
    "\n",
    "# push # \n",
    "def push(stack,x,n):\n",
    "    top = len(stack)-1\n",
    "    if top >= n:\n",
    "        print(\"stack tam dolu!..\")\n",
    "    else:\n",
    "        stack.append(x)\n",
    "        top += 1\n",
    "    print(top)\n",
    "    print(stack)\n",
    "\n",
    "def pop(stack,n):\n",
    "    top = len(stack)-1\n",
    "    if top == -1:\n",
    "        print(\"Stack boş!\")\n",
    "    else:\n",
    "        stack.pop()\n",
    "        top -= 1\n",
    "\n",
    "n = 3\n",
    "push(stack,5,n)\n",
    "push(stack,10,n)\n",
    "push(stack,24,n)\n",
    "push(stack,12,n)\n",
    "\n",
    "topElement()\n",
    "\n",
    "for i in range(len(stack)):\n",
    "    stack.pop()\n",
    "\n",
    "pop(stack,n)\n",
    "print(\"liste = \",stack)"
   ]
  },
  {
   "cell_type": "code",
   "execution_count": 5,
   "id": "21e03545-978d-4aa9-b791-4b3e5dc3ae08",
   "metadata": {},
   "outputs": [
    {
     "name": "stdout",
     "output_type": "stream",
     "text": [
      "0\n",
      "[5]\n",
      "Stack boş!\n",
      "0\n",
      "[10]\n",
      "1\n",
      "[10, 24]\n",
      "1\n",
      "[10, 12]\n",
      "12\n",
      "Stack boş!\n",
      "liste =  []\n"
     ]
    }
   ],
   "source": [
    "stack = []\n",
    "\n",
    "def topElement():\n",
    "    print(stack[len(stack)-1])\n",
    "\n",
    "# push # \n",
    "def push(stack,x,n):\n",
    "    top = len(stack)-1\n",
    "    if top >= n:\n",
    "        print(\"stack tam dolu!..\")\n",
    "    else:\n",
    "        stack.append(x)\n",
    "        top += 1\n",
    "    print(top)\n",
    "    print(stack)\n",
    "\n",
    "def pop(stack,n):\n",
    "    top = len(stack)-1\n",
    "    if top == -1:\n",
    "        print(\"Stack boş!\")\n",
    "    else:\n",
    "        stack.pop()\n",
    "        top -= 1\n",
    "\n",
    "n = 3\n",
    "push(stack,5,n)\n",
    "pop(stack,n)\n",
    "pop(stack,n)\n",
    "push(stack,10,n)\n",
    "push(stack,24,n)\n",
    "pop(stack,n)\n",
    "push(stack,12,n)\n",
    "\n",
    "topElement()\n",
    "\n",
    "for i in range(len(stack)):\n",
    "    stack.pop()\n",
    "\n",
    "pop(stack,n)\n",
    "print(\"liste = \",stack)"
   ]
  },
  {
   "cell_type": "markdown",
   "id": "8a204c56-4d37-473f-8271-780d1f07f722",
   "metadata": {},
   "source": [
    "Queues  - First In First Out (FIFO)"
   ]
  },
  {
   "cell_type": "code",
   "execution_count": 2,
   "id": "364556ee-2194-486c-83b1-118b9f07484c",
   "metadata": {},
   "outputs": [
    {
     "name": "stdin",
     "output_type": "stream",
     "text": [
      " 5\n",
      " E 5\n"
     ]
    },
    {
     "name": "stdout",
     "output_type": "stream",
     "text": [
      "1\n"
     ]
    },
    {
     "name": "stdin",
     "output_type": "stream",
     "text": [
      " D\n"
     ]
    },
    {
     "name": "stdout",
     "output_type": "stream",
     "text": [
      "5   0\n"
     ]
    },
    {
     "name": "stdin",
     "output_type": "stream",
     "text": [
      " D\n"
     ]
    },
    {
     "name": "stdout",
     "output_type": "stream",
     "text": [
      "-1 0\n"
     ]
    },
    {
     "name": "stdin",
     "output_type": "stream",
     "text": [
      " E 3\n"
     ]
    },
    {
     "name": "stdout",
     "output_type": "stream",
     "text": [
      "1\n"
     ]
    },
    {
     "name": "stdin",
     "output_type": "stream",
     "text": [
      " D\n"
     ]
    },
    {
     "name": "stdout",
     "output_type": "stream",
     "text": [
      "3   0\n"
     ]
    }
   ],
   "source": [
    "def enqueue(element):\n",
    "    global queue,front,rear,arraySize\n",
    "    if(rear == arraySize):\n",
    "        print(\"Tam dolu\")\n",
    "    else:\n",
    "        queue.append(element)        \n",
    "        rear+=1    \n",
    "        print(rear-front)    \n",
    "\n",
    "def dequeue():\n",
    "    global queue,front,rear,arraySize\n",
    "    if(front == rear):           \n",
    "        print(\"-1 0\")\n",
    "    else:\n",
    "        c = queue[front]\n",
    "        queue[front] = 0       \n",
    "        front+=1\n",
    "        print(c,\" \",rear-front)                        \n",
    "\n",
    "N = int(input())\n",
    "queue = []; front = 0; rear = 0\n",
    "arraySize = 100\n",
    "for i in range(N):\n",
    "    txt = input().split()\n",
    "    if txt[0]=='D':        \n",
    "        dequeue()\n",
    "    else:    \n",
    "        enqueue(txt[1])"
   ]
  },
  {
   "cell_type": "code",
   "execution_count": 1,
   "id": "5100bb79-9ea4-466c-8be8-58bf9244e5ce",
   "metadata": {},
   "outputs": [
    {
     "name": "stdin",
     "output_type": "stream",
     "text": [
      " 7\n",
      " E 3\n"
     ]
    },
    {
     "name": "stdout",
     "output_type": "stream",
     "text": [
      "1\n"
     ]
    },
    {
     "name": "stdin",
     "output_type": "stream",
     "text": [
      " E 8\n"
     ]
    },
    {
     "name": "stdout",
     "output_type": "stream",
     "text": [
      "2\n"
     ]
    },
    {
     "name": "stdin",
     "output_type": "stream",
     "text": [
      " E 6\n"
     ]
    },
    {
     "name": "stdout",
     "output_type": "stream",
     "text": [
      "3\n"
     ]
    },
    {
     "name": "stdin",
     "output_type": "stream",
     "text": [
      " E 1\n"
     ]
    },
    {
     "name": "stdout",
     "output_type": "stream",
     "text": [
      "4\n"
     ]
    },
    {
     "name": "stdin",
     "output_type": "stream",
     "text": [
      " D\n"
     ]
    },
    {
     "name": "stdout",
     "output_type": "stream",
     "text": [
      "3   3\n"
     ]
    },
    {
     "name": "stdin",
     "output_type": "stream",
     "text": [
      " D\n"
     ]
    },
    {
     "name": "stdout",
     "output_type": "stream",
     "text": [
      "8   2\n"
     ]
    },
    {
     "name": "stdin",
     "output_type": "stream",
     "text": [
      " E 5\n"
     ]
    },
    {
     "name": "stdout",
     "output_type": "stream",
     "text": [
      "3\n"
     ]
    }
   ],
   "source": [
    "def enqueue(element):\n",
    "    global queue,front,rear,arraySize\n",
    "    if(rear == arraySize):\n",
    "        print(\"Tam dolu\")\n",
    "    else:\n",
    "        queue.append(element)        \n",
    "        rear+=1    \n",
    "        print(rear-front)    \n",
    "\n",
    "def dequeue():\n",
    "    global queue,front,rear,arraySize\n",
    "    if(front == rear):           \n",
    "        print(\"-1 0\")\n",
    "    else:\n",
    "        c = queue[front]\n",
    "        queue[front] = 0       \n",
    "        front+=1\n",
    "        print(c,\" \",rear-front)                        \n",
    "\n",
    "N = int(input())\n",
    "queue = []; front = 0; rear = 0\n",
    "arraySize = 100\n",
    "for i in range(N):\n",
    "    txt = input().split()\n",
    "    if txt[0]=='D':        \n",
    "        dequeue()\n",
    "    else:    \n",
    "        enqueue(txt[1])"
   ]
  },
  {
   "cell_type": "markdown",
   "id": "448bf7cc-af0a-4c3a-9983-fb79b12ee0ff",
   "metadata": {},
   "source": [
    "Number Theory- Palindrome question"
   ]
  },
  {
   "cell_type": "code",
   "execution_count": 72,
   "id": "3eba9e3c-3e89-4618-a3af-4ba65c30bdbe",
   "metadata": {},
   "outputs": [
    {
     "name": "stdin",
     "output_type": "stream",
     "text": [
      " 12321\n"
     ]
    },
    {
     "name": "stdout",
     "output_type": "stream",
     "text": [
      "5\n"
     ]
    }
   ],
   "source": [
    "n = int(input())\n",
    "strN=str(n)\n",
    "print(len(strN))"
   ]
  },
  {
   "cell_type": "code",
   "execution_count": 5,
   "id": "9b6968c7-83a3-4d37-98b8-f5086fd20456",
   "metadata": {},
   "outputs": [
    {
     "name": "stdin",
     "output_type": "stream",
     "text": [
      " 456545\n"
     ]
    },
    {
     "name": "stdout",
     "output_type": "stream",
     "text": [
      "false\n"
     ]
    }
   ],
   "source": [
    "n = int(input())\n",
    "strN=str(n)\n",
    "ters=\"\"\n",
    "for i in strN[::-1]:\n",
    "    ters+=i\n",
    "if ters==strN:\n",
    "    print(\"true\")\n",
    "else:\n",
    "    print(\"false\")"
   ]
  },
  {
   "cell_type": "markdown",
   "id": "b3299809-6812-4eda-a1ac-d0afe71de3f2",
   "metadata": {},
   "source": [
    "method2"
   ]
  },
  {
   "cell_type": "code",
   "execution_count": 78,
   "id": "aadb6722-ed85-418c-902e-89fe0a7ff1ae",
   "metadata": {},
   "outputs": [
    {
     "name": "stdin",
     "output_type": "stream",
     "text": [
      " 65456\n"
     ]
    },
    {
     "name": "stdout",
     "output_type": "stream",
     "text": [
      "true\n"
     ]
    }
   ],
   "source": [
    "n = int(input())                       #12321 olsa, 2 döncek, i[0]?=i[4] doğru, i[1]?=i[3] doğru\n",
    "strN=str(n)\n",
    "nl=len(strN)\n",
    "palindrome=\"true\"\n",
    "for i in range(nl//2):\n",
    "    if strN[i]!=strN[nl-i-1]:\n",
    "        palindrome=\"false\"\n",
    "        break\n",
    "print(palindrome)"
   ]
  },
  {
   "cell_type": "markdown",
   "id": "f097264b-3b67-42f1-b22b-be7b63647d3b",
   "metadata": {},
   "source": [
    "Number Theory- Closest Palindrome question => en yakın polindromu bul, girdiğin polindromsa kendisi dışında en yakını bul, küçüğü al"
   ]
  },
  {
   "cell_type": "code",
   "execution_count": 100,
   "id": "b2ad483c-8c47-4ad4-bac4-00a4ba80b97a",
   "metadata": {},
   "outputs": [
    {
     "name": "stdin",
     "output_type": "stream",
     "text": [
      " 56561\n"
     ]
    },
    {
     "name": "stdout",
     "output_type": "stream",
     "text": [
      "['5', '6', '5', '6', '1']\n",
      "['5', '6', '5', '6', '5']\n",
      "4\n",
      "56565\n"
     ]
    }
   ],
   "source": [
    "import copy                                 #polindrom olmayan sayılarda bu kod geçerli\n",
    "a=int(input())\n",
    "s1=list(str(a))\n",
    "s2=copy.copy(s1)\n",
    "slen=len(s1)\n",
    "for i in range(slen//2):\n",
    "    if s1[i]!=s1[slen-i-1]:\n",
    "        s2[slen-i-1]=s1[i]\n",
    "b=int(\"\".join(s2))\n",
    "print(s1)\n",
    "print(s2)\n",
    "print(abs(a-b))\n",
    "print(b)"
   ]
  },
  {
   "cell_type": "code",
   "execution_count": 69,
   "id": "a2e9c5e3-599e-4ccf-aa19-0b7df06b5ba0",
   "metadata": {},
   "outputs": [
    {
     "name": "stdin",
     "output_type": "stream",
     "text": [
      " 1221\n"
     ]
    },
    {
     "name": "stdout",
     "output_type": "stream",
     "text": [
      "1111\n"
     ]
    }
   ],
   "source": [
    "import copy                                 #polindrom olmayan sayılarda bu kod geçerli \n",
    "a=int(input())\n",
    "s1=list(str(a))\n",
    "s2=copy.copy(s1)\n",
    "\n",
    "slen=len(s1)\n",
    "\n",
    "c=0\n",
    "for i in range(slen//2):\n",
    "    if s1[i]!=s1[slen-i-1]:\n",
    "        s2[slen-i-1]=s1[i]\n",
    "        c=1\n",
    "        \n",
    "if c==0: #Eğer kendisi polindrom ise\n",
    "    if (slen%2)==0:\n",
    "        if int(s1[slen//2])!=0:\n",
    "            s2[slen//2] = s2[slen//2-1] = str(int(s1[slen//2])-1)   #abs de kullanılabilir (tek haneli sayılarda işe yarar)\n",
    "        else:\n",
    "            s2[slen//2] = s2[slen//2-1] = str(int(s1[slen//2])+1)\n",
    "    elif (slen%2)!=0:\n",
    "        if int(s1[slen//2])!=0:\n",
    "            s2[slen//2] = str(int(s1[slen//2])-1)  \n",
    "        else:\n",
    "            s2[slen//2] = str(int(s1[slen//2])+1)\n",
    "\n",
    "print(\"\".join(s2))\n"
   ]
  },
  {
   "cell_type": "code",
   "execution_count": 70,
   "id": "b9180ba6-3f75-4cdb-a468-6983716c72ab",
   "metadata": {},
   "outputs": [
    {
     "name": "stdout",
     "output_type": "stream",
     "text": [
      "True\n"
     ]
    }
   ],
   "source": [
    "print(c)"
   ]
  },
  {
   "cell_type": "markdown",
   "id": "bb662c93-cdae-4476-aa9a-977158155a79",
   "metadata": {},
   "source": [
    "Quiz H16 - Benim Kodum"
   ]
  },
  {
   "cell_type": "code",
   "execution_count": 118,
   "id": "f50c1dd4-d187-4c29-9c3c-4945d8877b3a",
   "metadata": {},
   "outputs": [
    {
     "name": "stdout",
     "output_type": "stream",
     "text": [
      "[15, 71, 13, 14, 61, 48, 48, 23, 93, 48]\n"
     ]
    }
   ],
   "source": [
    "import random\n",
    "list=[]\n",
    "for i in range(10):\n",
    "    list.append(random.randint(10,100))\n",
    "print(list)"
   ]
  },
  {
   "cell_type": "code",
   "execution_count": 124,
   "id": "57d502b6-b028-486a-b119-6db39625db3d",
   "metadata": {},
   "outputs": [
    {
     "name": "stdout",
     "output_type": "stream",
     "text": [
      "[15, 71, 13, 14, 61]\n",
      "[48, 48, 23, 93, 48]\n"
     ]
    }
   ],
   "source": [
    "list1=list[0:5]\n",
    "print(list1)\n",
    "list2=list[5::]\n",
    "print(list2)"
   ]
  },
  {
   "cell_type": "code",
   "execution_count": 130,
   "id": "2a3f7c2e-601f-47f4-a7d2-fb186acc9531",
   "metadata": {},
   "outputs": [
    {
     "name": "stdout",
     "output_type": "stream",
     "text": [
      "[13, 14, 15, 61, 71]\n",
      "[23, 48, 48, 48, 93]\n"
     ]
    }
   ],
   "source": [
    "for i in range(1,len(list1)):\n",
    "    for j in range(i):\n",
    "        if list1[i]<list1[j]:\n",
    "            a = list1[i]\n",
    "            list1[i] = list1[j]\n",
    "            list1[j] = a\n",
    "print(list1)\n",
    "for i in range(1,len(list2)):\n",
    "    for j in range(i):\n",
    "        if list2[i]<list2[j]:\n",
    "            a = list2[i]\n",
    "            list2[i] = list2[j]\n",
    "            list2[j] = a\n",
    "print(list2)\n"
   ]
  },
  {
   "cell_type": "code",
   "execution_count": 36,
   "id": "9a21d21d-d9f5-4801-8966-8487382f3a8a",
   "metadata": {},
   "outputs": [
    {
     "name": "stdin",
     "output_type": "stream",
     "text": [
      " 1235465446\n"
     ]
    },
    {
     "name": "stdout",
     "output_type": "stream",
     "text": [
      "['1', '2', '3', '5', '4', '4', '5', '3', '2', '1']\n"
     ]
    }
   ],
   "source": [
    "#polindrom olmayan sayılarda bu kod geçerli---sade versiyon\n",
    "\n",
    "a=int(input())\n",
    "s1=list(str(a))\n",
    "slen=len(s1)\n",
    "for i in range(slen//2):\n",
    "    if s1[i]!=s1[slen-i-1]:\n",
    "        s1[slen-i-1]=s1[i]\n",
    "print(s1)"
   ]
  },
  {
   "cell_type": "code",
   "execution_count": 60,
   "id": "4b135405-ae3d-45c4-87b8-65a19449efc0",
   "metadata": {},
   "outputs": [
    {
     "name": "stdin",
     "output_type": "stream",
     "text": [
      " 654654\n"
     ]
    },
    {
     "name": "stdout",
     "output_type": "stream",
     "text": [
      "655556\n"
     ]
    }
   ],
   "source": [
    "import copy                                 #polindrom olmayan sayılarda bu kod geçerli \n",
    "a=int(input())\n",
    "s1=list(str(a))\n",
    "s2=copy.copy(s1)\n",
    "\n",
    "slen=len(s1)\n",
    "for i in range(slen//2):\n",
    "    if s1[i]!=s1[slen-i-1]:\n",
    "        s2[slen-i-1]=s1[i]\n",
    "        \n",
    "    if (slen%2)==0:\n",
    "        if int(s1[slen//2])!=0:\n",
    "            s2[slen//2] = s2[slen//2-1] = str(int(s1[slen//2])-1)   #abs de kullanılabilir (tek haneli sayılarda işe yarar)\n",
    "        else:\n",
    "            s2[slen//2] = s2[slen//2-1] = str(int(s1[slen//2])+1)\n",
    "    elif (slen%2)!=0:\n",
    "        if int(s1[slen//2])!=0:\n",
    "            s2[slen//2] = str(int(s1[slen//2])-1)  \n",
    "        else:\n",
    "            s2[slen//2] = str(int(s1[slen//2])+1)\n",
    "\n",
    "print(\"\".join(s2))"
   ]
  }
 ],
 "metadata": {
  "kernelspec": {
   "display_name": "Python 3 (ipykernel)",
   "language": "python",
   "name": "python3"
  },
  "language_info": {
   "codemirror_mode": {
    "name": "ipython",
    "version": 3
   },
   "file_extension": ".py",
   "mimetype": "text/x-python",
   "name": "python",
   "nbconvert_exporter": "python",
   "pygments_lexer": "ipython3",
   "version": "3.9.7"
  }
 },
 "nbformat": 4,
 "nbformat_minor": 5
}
