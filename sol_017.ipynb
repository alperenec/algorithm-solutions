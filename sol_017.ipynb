{
 "cells": [
  {
   "cell_type": "code",
   "execution_count": 2,
   "id": "7c564fef-da1d-498e-8b54-8a3fe90596fd",
   "metadata": {},
   "outputs": [
    {
     "name": "stdin",
     "output_type": "stream",
     "text": [
      "eleman sayısı: 5\n",
      "sıçrama sayısı: 3\n",
      "1: random sayılar gir,  0: manuel sayılar gir: 1\n"
     ]
    },
    {
     "name": "stdout",
     "output_type": "stream",
     "text": [
      "[68, 43, 46, 58, 23]\n"
     ]
    }
   ],
   "source": [
    "n=int(input(\"eleman sayısı:\"))\n",
    "k=int(input(\"sıçrama sayısı:\"))\n",
    "import random\n",
    "w=int(input(\"1: random sayılar gir,  0: manuel sayılar gir:\"))\n",
    "#random almak için kod\n",
    "if w==1:                                      \n",
    "    liste=[]\n",
    "    for i in range(n):\n",
    "        sayi=random.randint(10,100)\n",
    "        liste+=[sayi]\n",
    "    print(liste)\n",
    "#manuel almak için kod\n",
    "elif w==0:\n",
    "    liste=[]\n",
    "    liste = [int(j) for j in input().split()]\n",
    "    print(liste)\n",
    "    "
   ]
  },
  {
   "cell_type": "code",
   "execution_count": 54,
   "id": "e04fbb26-1982-4daf-9a01-89b57291aead",
   "metadata": {},
   "outputs": [
    {
     "name": "stdout",
     "output_type": "stream",
     "text": [
      "[22, 45, 67, 57, 63] 3\n",
      "s= [57]\n",
      "[22, 45, 67, 63] 2\n",
      "s= [57, 67]\n",
      "[22, 45, 63] 2\n",
      "s= [57, 67, 63]\n",
      "[22, 45] 1\n",
      "s= [57, 67, 63, 45]\n",
      "[22] 0\n",
      "s= [57, 67, 63, 45, 22]\n",
      "[57, 67, 63, 45, 22]\n"
     ]
    }
   ],
   "source": [
    "liste = [22, 45, 67, 57, 63]\n",
    "####################\n",
    "stack=[]\n",
    "a=0\n",
    "b=k\n",
    "while len(liste) != 0:\n",
    "    b=b%len(liste)\n",
    "    print(liste,b)\n",
    "    stack.append(liste[b])\n",
    "    print(\"s=\", stack)\n",
    "    a=b+1\n",
    "    del liste[b]\n",
    "    print(liste)\n",
    "    b+=k\n",
    "print(stack)"
   ]
  },
  {
   "cell_type": "code",
   "execution_count": 7,
   "id": "b357b2d6-d44b-4ab0-bf64-26846e101e0b",
   "metadata": {},
   "outputs": [
    {
     "name": "stdout",
     "output_type": "stream",
     "text": [
      "[22, 45, 67, 57, 63]\n",
      "[22, 45, 67, 63]\n",
      "[22, 45, 63]\n",
      "[22, 45]\n",
      "[22]\n"
     ]
    }
   ],
   "source": [
    "liste = [22, 45, 67, 57, 63]\n",
    "####################\n",
    "stack=[]\n",
    "a=0\n",
    "b=k\n",
    "print(liste)\n",
    "while len(liste) != 1:\n",
    "    b=b%len(liste)\n",
    "    stack.append(liste[b])\n",
    "    a=b+1\n",
    "    del liste[b]\n",
    "    print(liste)\n",
    "    b+=k\n"
   ]
  },
  {
   "cell_type": "code",
   "execution_count": 61,
   "id": "36e7da5b-4f76-4409-be9a-a25dd2d7cbf7",
   "metadata": {},
   "outputs": [
    {
     "name": "stdin",
     "output_type": "stream",
     "text": [
      "sayı gir: 9\n"
     ]
    },
    {
     "name": "stdout",
     "output_type": "stream",
     "text": [
      "9 asal değil\n"
     ]
    }
   ],
   "source": [
    "#asal kontrolü için\n",
    "\n",
    "n=int(input(\"sayı gir:\"))\n",
    "if n > 1:\n",
    "    for i in range(2,n):\n",
    "        if (n%i)==0:\n",
    "            print(n,\"asal değil\")\n",
    "            break\n",
    "    else:\n",
    "        print(n,\"asal\")\n",
    "else:\n",
    "    print(n,\"asal değil\")"
   ]
  },
  {
   "cell_type": "code",
   "execution_count": 83,
   "id": "ce7a2a2c-1ae5-4c3f-bd52-68cf99b524bc",
   "metadata": {},
   "outputs": [
    {
     "data": {
      "text/plain": [
       "False"
      ]
     },
     "execution_count": 83,
     "metadata": {},
     "output_type": "execute_result"
    }
   ],
   "source": [
    "def asal(a,b):\n",
    "    c=1\n",
    "    if a<=b:\n",
    "        low=a\n",
    "    elif b<a:\n",
    "        low=b\n",
    "    for i in range(2,low):\n",
    "        c+=1\n",
    "        if (a%i) and (b%i) == 0:\n",
    "            return False\n",
    "            break\n",
    "        elif (a%i) and (b%i) != 0:\n",
    "            if c==(low-1):\n",
    "                return True\n",
    "                break\n",
    "        \n",
    "asal(5,6)"
   ]
  },
  {
   "cell_type": "code",
   "execution_count": null,
   "id": "1292c789-9a8c-4317-b41c-3507640fd840",
   "metadata": {},
   "outputs": [],
   "source": []
  }
 ],
 "metadata": {
  "kernelspec": {
   "display_name": "Python 3 (ipykernel)",
   "language": "python",
   "name": "python3"
  },
  "language_info": {
   "codemirror_mode": {
    "name": "ipython",
    "version": 3
   },
   "file_extension": ".py",
   "mimetype": "text/x-python",
   "name": "python",
   "nbconvert_exporter": "python",
   "pygments_lexer": "ipython3",
   "version": "3.9.7"
  }
 },
 "nbformat": 4,
 "nbformat_minor": 5
}
